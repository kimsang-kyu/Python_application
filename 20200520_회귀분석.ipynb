{
  "nbformat": 4,
  "nbformat_minor": 0,
  "metadata": {
    "colab": {
      "name": "20200520_회귀분석.ipynb",
      "provenance": [],
      "collapsed_sections": [],
      "authorship_tag": "ABX9TyPypdJfnZ0YEMULTTavl3Pz",
      "include_colab_link": true
    },
    "kernelspec": {
      "name": "python3",
      "display_name": "Python 3"
    }
  },
  "cells": [
    {
      "cell_type": "markdown",
      "metadata": {
        "id": "view-in-github",
        "colab_type": "text"
      },
      "source": [
        "<a href=\"https://colab.research.google.com/github/kimsang-kyu/Python_application/blob/main/20200520_%ED%9A%8C%EA%B7%80%EB%B6%84%EC%84%9D.ipynb\" target=\"_parent\"><img src=\"https://colab.research.google.com/assets/colab-badge.svg\" alt=\"Open In Colab\"/></a>"
      ]
    },
    {
      "cell_type": "markdown",
      "metadata": {
        "id": "eTPFwixg1Cb0"
      },
      "source": [
        "### 단순 선형 회귀분석\n",
        " > 단순 선형 회귀 모형의 기본 가정\n",
        "  - 선형성 : x와 y의 관계는 선형식으로 표현 가능\n",
        "  - 독립성 : 오차는 서로 독립\n",
        "  - 정규성 및 등 분산성"
      ]
    },
    {
      "cell_type": "code",
      "metadata": {
        "id": "b_os3X1n0ZDi",
        "colab": {
          "base_uri": "https://localhost:8080/",
          "height": 73
        },
        "outputId": "555b7464-c5ea-4ffa-8eca-2cdd5b4fbe46"
      },
      "source": [
        "#library\n",
        "import pandas as pd\n",
        "from statsmodels.formula.api import ols\n",
        "from matplotlib import pyplot as plt"
      ],
      "execution_count": null,
      "outputs": [
        {
          "output_type": "stream",
          "text": [
            "/usr/local/lib/python3.6/dist-packages/statsmodels/tools/_testing.py:19: FutureWarning: pandas.util.testing is deprecated. Use the functions in the public API at pandas.testing instead.\n",
            "  import pandas.util.testing as tm\n"
          ],
          "name": "stderr"
        }
      ]
    },
    {
      "cell_type": "code",
      "metadata": {
        "id": "L8nRglKa2Ppc"
      },
      "source": [
        "x = [168,160,170,158,176,161,180,183,180,167,179,171,166]\n",
        "y = [179,169,180,160,178,170,183,187,179,172,181,173,165]"
      ],
      "execution_count": null,
      "outputs": []
    },
    {
      "cell_type": "code",
      "metadata": {
        "id": "0fz3WbDP2pet",
        "colab": {
          "base_uri": "https://localhost:8080/",
          "height": 452
        },
        "outputId": "3be811e4-040d-4a7e-90c3-f0e82299774f"
      },
      "source": [
        "df = pd.DataFrame({'x':x,'y':y})\n",
        "df"
      ],
      "execution_count": null,
      "outputs": [
        {
          "output_type": "execute_result",
          "data": {
            "text/html": [
              "<div>\n",
              "<style scoped>\n",
              "    .dataframe tbody tr th:only-of-type {\n",
              "        vertical-align: middle;\n",
              "    }\n",
              "\n",
              "    .dataframe tbody tr th {\n",
              "        vertical-align: top;\n",
              "    }\n",
              "\n",
              "    .dataframe thead th {\n",
              "        text-align: right;\n",
              "    }\n",
              "</style>\n",
              "<table border=\"1\" class=\"dataframe\">\n",
              "  <thead>\n",
              "    <tr style=\"text-align: right;\">\n",
              "      <th></th>\n",
              "      <th>x</th>\n",
              "      <th>y</th>\n",
              "    </tr>\n",
              "  </thead>\n",
              "  <tbody>\n",
              "    <tr>\n",
              "      <th>0</th>\n",
              "      <td>168</td>\n",
              "      <td>179</td>\n",
              "    </tr>\n",
              "    <tr>\n",
              "      <th>1</th>\n",
              "      <td>160</td>\n",
              "      <td>169</td>\n",
              "    </tr>\n",
              "    <tr>\n",
              "      <th>2</th>\n",
              "      <td>170</td>\n",
              "      <td>180</td>\n",
              "    </tr>\n",
              "    <tr>\n",
              "      <th>3</th>\n",
              "      <td>158</td>\n",
              "      <td>160</td>\n",
              "    </tr>\n",
              "    <tr>\n",
              "      <th>4</th>\n",
              "      <td>176</td>\n",
              "      <td>178</td>\n",
              "    </tr>\n",
              "    <tr>\n",
              "      <th>5</th>\n",
              "      <td>161</td>\n",
              "      <td>170</td>\n",
              "    </tr>\n",
              "    <tr>\n",
              "      <th>6</th>\n",
              "      <td>180</td>\n",
              "      <td>183</td>\n",
              "    </tr>\n",
              "    <tr>\n",
              "      <th>7</th>\n",
              "      <td>183</td>\n",
              "      <td>187</td>\n",
              "    </tr>\n",
              "    <tr>\n",
              "      <th>8</th>\n",
              "      <td>180</td>\n",
              "      <td>179</td>\n",
              "    </tr>\n",
              "    <tr>\n",
              "      <th>9</th>\n",
              "      <td>167</td>\n",
              "      <td>172</td>\n",
              "    </tr>\n",
              "    <tr>\n",
              "      <th>10</th>\n",
              "      <td>179</td>\n",
              "      <td>181</td>\n",
              "    </tr>\n",
              "    <tr>\n",
              "      <th>11</th>\n",
              "      <td>171</td>\n",
              "      <td>173</td>\n",
              "    </tr>\n",
              "    <tr>\n",
              "      <th>12</th>\n",
              "      <td>166</td>\n",
              "      <td>165</td>\n",
              "    </tr>\n",
              "  </tbody>\n",
              "</table>\n",
              "</div>"
            ],
            "text/plain": [
              "      x    y\n",
              "0   168  179\n",
              "1   160  169\n",
              "2   170  180\n",
              "3   158  160\n",
              "4   176  178\n",
              "5   161  170\n",
              "6   180  183\n",
              "7   183  187\n",
              "8   180  179\n",
              "9   167  172\n",
              "10  179  181\n",
              "11  171  173\n",
              "12  166  165"
            ]
          },
          "metadata": {
            "tags": []
          },
          "execution_count": 3
        }
      ]
    },
    {
      "cell_type": "code",
      "metadata": {
        "id": "U0_q_42i2wCD",
        "colab": {
          "base_uri": "https://localhost:8080/",
          "height": 297
        },
        "outputId": "2ff77eea-4801-472d-d0c7-0fa39563fd9e"
      },
      "source": [
        "# 변수별 자료 요약 \n",
        "df.describe()"
      ],
      "execution_count": null,
      "outputs": [
        {
          "output_type": "execute_result",
          "data": {
            "text/html": [
              "<div>\n",
              "<style scoped>\n",
              "    .dataframe tbody tr th:only-of-type {\n",
              "        vertical-align: middle;\n",
              "    }\n",
              "\n",
              "    .dataframe tbody tr th {\n",
              "        vertical-align: top;\n",
              "    }\n",
              "\n",
              "    .dataframe thead th {\n",
              "        text-align: right;\n",
              "    }\n",
              "</style>\n",
              "<table border=\"1\" class=\"dataframe\">\n",
              "  <thead>\n",
              "    <tr style=\"text-align: right;\">\n",
              "      <th></th>\n",
              "      <th>x</th>\n",
              "      <th>y</th>\n",
              "    </tr>\n",
              "  </thead>\n",
              "  <tbody>\n",
              "    <tr>\n",
              "      <th>count</th>\n",
              "      <td>13.000000</td>\n",
              "      <td>13.000000</td>\n",
              "    </tr>\n",
              "    <tr>\n",
              "      <th>mean</th>\n",
              "      <td>170.692308</td>\n",
              "      <td>175.076923</td>\n",
              "    </tr>\n",
              "    <tr>\n",
              "      <th>std</th>\n",
              "      <td>8.340510</td>\n",
              "      <td>7.686151</td>\n",
              "    </tr>\n",
              "    <tr>\n",
              "      <th>min</th>\n",
              "      <td>158.000000</td>\n",
              "      <td>160.000000</td>\n",
              "    </tr>\n",
              "    <tr>\n",
              "      <th>25%</th>\n",
              "      <td>166.000000</td>\n",
              "      <td>170.000000</td>\n",
              "    </tr>\n",
              "    <tr>\n",
              "      <th>50%</th>\n",
              "      <td>170.000000</td>\n",
              "      <td>178.000000</td>\n",
              "    </tr>\n",
              "    <tr>\n",
              "      <th>75%</th>\n",
              "      <td>179.000000</td>\n",
              "      <td>180.000000</td>\n",
              "    </tr>\n",
              "    <tr>\n",
              "      <th>max</th>\n",
              "      <td>183.000000</td>\n",
              "      <td>187.000000</td>\n",
              "    </tr>\n",
              "  </tbody>\n",
              "</table>\n",
              "</div>"
            ],
            "text/plain": [
              "                x           y\n",
              "count   13.000000   13.000000\n",
              "mean   170.692308  175.076923\n",
              "std      8.340510    7.686151\n",
              "min    158.000000  160.000000\n",
              "25%    166.000000  170.000000\n",
              "50%    170.000000  178.000000\n",
              "75%    179.000000  180.000000\n",
              "max    183.000000  187.000000"
            ]
          },
          "metadata": {
            "tags": []
          },
          "execution_count": 4
        }
      ]
    },
    {
      "cell_type": "code",
      "metadata": {
        "id": "uOo31EIj2_Sp",
        "colab": {
          "base_uri": "https://localhost:8080/",
          "height": 502
        },
        "outputId": "d7e0d981-439e-442d-e280-572bb7ae2925"
      },
      "source": [
        "# 산점도 행렬 \n",
        "p = pd.plotting.scatter_matrix(df, figsize=(8, 8), marker='o') "
      ],
      "execution_count": null,
      "outputs": [
        {
          "output_type": "display_data",
          "data": {
            "image/png": "[encoded data removed]",
            "text/plain": [
              "<Figure size 576x576 with 4 Axes>"
            ]
          },
          "metadata": {
            "tags": [],
            "needs_background": "light"
          }
        }
      ]
    },
    {
      "cell_type": "code",
      "metadata": {
        "id": "Sy9drcVm2_--",
        "colab": {
          "base_uri": "https://localhost:8080/",
          "height": 534
        },
        "outputId": "56b9a038-81a1-4014-baa6-b2ced9c64dcc"
      },
      "source": [
        "### 단순 선형 회귀분석 \n",
        "# Regression: y ~ x \n",
        "reg_simp = ols('y ~ x', data=df).fit() \n",
        "reg_simp.summary()\n"
      ],
      "execution_count": null,
      "outputs": [
        {
          "output_type": "stream",
          "text": [
            "/usr/local/lib/python3.6/dist-packages/scipy/stats/stats.py:1535: UserWarning: kurtosistest only valid for n>=20 ... continuing anyway, n=13\n",
            "  \"anyway, n=%i\" % int(n))\n"
          ],
          "name": "stderr"
        },
        {
          "output_type": "execute_result",
          "data": {
            "text/html": [
              "<table class=\"simpletable\">\n",
              "<caption>OLS Regression Results</caption>\n",
              "<tr>\n",
              "  <th>Dep. Variable:</th>            <td>y</td>        <th>  R-squared:         </th> <td>   0.762</td>\n",
              "</tr>\n",
              "<tr>\n",
              "  <th>Model:</th>                   <td>OLS</td>       <th>  Adj. R-squared:    </th> <td>   0.740</td>\n",
              "</tr>\n",
              "<tr>\n",
              "  <th>Method:</th>             <td>Least Squares</td>  <th>  F-statistic:       </th> <td>   35.12</td>\n",
              "</tr>\n",
              "<tr>\n",
              "  <th>Date:</th>             <td>Wed, 20 May 2020</td> <th>  Prob (F-statistic):</th> <td>9.92e-05</td>\n",
              "</tr>\n",
              "<tr>\n",
              "  <th>Time:</th>                 <td>02:18:48</td>     <th>  Log-Likelihood:    </th> <td> -35.121</td>\n",
              "</tr>\n",
              "<tr>\n",
              "  <th>No. Observations:</th>      <td>    13</td>      <th>  AIC:               </th> <td>   74.24</td>\n",
              "</tr>\n",
              "<tr>\n",
              "  <th>Df Residuals:</th>          <td>    11</td>      <th>  BIC:               </th> <td>   75.37</td>\n",
              "</tr>\n",
              "<tr>\n",
              "  <th>Df Model:</th>              <td>     1</td>      <th>                     </th>     <td> </td>   \n",
              "</tr>\n",
              "<tr>\n",
              "  <th>Covariance Type:</th>      <td>nonrobust</td>    <th>                     </th>     <td> </td>   \n",
              "</tr>\n",
              "</table>\n",
              "<table class=\"simpletable\">\n",
              "<tr>\n",
              "      <td></td>         <th>coef</th>     <th>std err</th>      <th>t</th>      <th>P>|t|</th>  <th>[0.025</th>    <th>0.975]</th>  \n",
              "</tr>\n",
              "<tr>\n",
              "  <th>Intercept</th> <td>   37.8090</td> <td>   23.187</td> <td>    1.631</td> <td> 0.131</td> <td>  -13.225</td> <td>   88.843</td>\n",
              "</tr>\n",
              "<tr>\n",
              "  <th>x</th>         <td>    0.8042</td> <td>    0.136</td> <td>    5.927</td> <td> 0.000</td> <td>    0.506</td> <td>    1.103</td>\n",
              "</tr>\n",
              "</table>\n",
              "<table class=\"simpletable\">\n",
              "<tr>\n",
              "  <th>Omnibus:</th>       <td> 0.206</td> <th>  Durbin-Watson:     </th> <td>   1.343</td>\n",
              "</tr>\n",
              "<tr>\n",
              "  <th>Prob(Omnibus):</th> <td> 0.902</td> <th>  Jarque-Bera (JB):  </th> <td>   0.394</td>\n",
              "</tr>\n",
              "<tr>\n",
              "  <th>Skew:</th>          <td> 0.013</td> <th>  Prob(JB):          </th> <td>   0.821</td>\n",
              "</tr>\n",
              "<tr>\n",
              "  <th>Kurtosis:</th>      <td> 2.148</td> <th>  Cond. No.          </th> <td>3.64e+03</td>\n",
              "</tr>\n",
              "</table><br/><br/>Warnings:<br/>[1] Standard Errors assume that the covariance matrix of the errors is correctly specified.<br/>[2] The condition number is large, 3.64e+03. This might indicate that there are<br/>strong multicollinearity or other numerical problems."
            ],
            "text/plain": [
              "<class 'statsmodels.iolib.summary.Summary'>\n",
              "\"\"\"\n",
              "                            OLS Regression Results                            \n",
              "==============================================================================\n",
              "Dep. Variable:                      y   R-squared:                       0.762\n",
              "Model:                            OLS   Adj. R-squared:                  0.740\n",
              "Method:                 Least Squares   F-statistic:                     35.12\n",
              "Date:                Wed, 20 May 2020   Prob (F-statistic):           9.92e-05\n",
              "Time:                        02:18:48   Log-Likelihood:                -35.121\n",
              "No. Observations:                  13   AIC:                             74.24\n",
              "Df Residuals:                      11   BIC:                             75.37\n",
              "Df Model:                           1                                         \n",
              "Covariance Type:            nonrobust                                         \n",
              "==============================================================================\n",
              "                 coef    std err          t      P>|t|      [0.025      0.975]\n",
              "------------------------------------------------------------------------------\n",
              "Intercept     37.8090     23.187      1.631      0.131     -13.225      88.843\n",
              "x              0.8042      0.136      5.927      0.000       0.506       1.103\n",
              "==============================================================================\n",
              "Omnibus:                        0.206   Durbin-Watson:                   1.343\n",
              "Prob(Omnibus):                  0.902   Jarque-Bera (JB):                0.394\n",
              "Skew:                           0.013   Prob(JB):                        0.821\n",
              "Kurtosis:                       2.148   Cond. No.                     3.64e+03\n",
              "==============================================================================\n",
              "\n",
              "Warnings:\n",
              "[1] Standard Errors assume that the covariance matrix of the errors is correctly specified.\n",
              "[2] The condition number is large, 3.64e+03. This might indicate that there are\n",
              "strong multicollinearity or other numerical problems.\n",
              "\"\"\""
            ]
          },
          "metadata": {
            "tags": []
          },
          "execution_count": 6
        }
      ]
    },
    {
      "cell_type": "markdown",
      "metadata": {
        "id": "Lgdf7KPu5az0"
      },
      "source": [
        "아버지의 키가 1cm증가할 때 아들의 키는 0,8cm만큼 증가한다,"
      ]
    },
    {
      "cell_type": "code",
      "metadata": {
        "id": "IKu0rW4p4E8S",
        "colab": {
          "base_uri": "https://localhost:8080/",
          "height": 265
        },
        "outputId": "2b1ed09b-0a7e-4054-9a10-4856c636f615"
      },
      "source": [
        "# 산점도와 회귀직선 \n",
        "plt.scatter(df['x'],df['y']) \n",
        "plt.plot(df['x'],reg_simp.predict(), 'red') \n",
        "plt.show()\n"
      ],
      "execution_count": null,
      "outputs": [
        {
          "output_type": "display_data",
          "data": {
            "image/png": "[encoded data removed]",
            "text/plain": [
              "<Figure size 432x288 with 1 Axes>"
            ]
          },
          "metadata": {
            "tags": [],
            "needs_background": "light"
          }
        }
      ]
    },
    {
      "cell_type": "markdown",
      "metadata": {
        "id": "ELAlzd5Q56v5"
      },
      "source": [
        "### 다중 선형 회귀분석\n",
        "\n",
        " 설명변수의 개수가 2개 이상인 것\n",
        " "
      ]
    },
    {
      "cell_type": "code",
      "metadata": {
        "id": "-kLOk7E_5my1",
        "colab": {
          "base_uri": "https://localhost:8080/",
          "height": 204
        },
        "outputId": "aa9f96d9-ae62-48f4-ad65-e3b235fa87f4"
      },
      "source": [
        "data_file = \"https://vincentarelbundock.github.io/Rdatasets/csv/Ecdat/Icecream.csv\"\n",
        "icecream= pd.read_csv(data_file)\n",
        "icecream =icecream.drop(icecream.columns[0], axis=1)\n",
        "icecream.head()"
      ],
      "execution_count": null,
      "outputs": [
        {
          "output_type": "execute_result",
          "data": {
            "text/html": [
              "<div>\n",
              "<style scoped>\n",
              "    .dataframe tbody tr th:only-of-type {\n",
              "        vertical-align: middle;\n",
              "    }\n",
              "\n",
              "    .dataframe tbody tr th {\n",
              "        vertical-align: top;\n",
              "    }\n",
              "\n",
              "    .dataframe thead th {\n",
              "        text-align: right;\n",
              "    }\n",
              "</style>\n",
              "<table border=\"1\" class=\"dataframe\">\n",
              "  <thead>\n",
              "    <tr style=\"text-align: right;\">\n",
              "      <th></th>\n",
              "      <th>cons</th>\n",
              "      <th>income</th>\n",
              "      <th>price</th>\n",
              "      <th>temp</th>\n",
              "    </tr>\n",
              "  </thead>\n",
              "  <tbody>\n",
              "    <tr>\n",
              "      <th>0</th>\n",
              "      <td>0.386</td>\n",
              "      <td>78</td>\n",
              "      <td>0.270</td>\n",
              "      <td>41</td>\n",
              "    </tr>\n",
              "    <tr>\n",
              "      <th>1</th>\n",
              "      <td>0.374</td>\n",
              "      <td>79</td>\n",
              "      <td>0.282</td>\n",
              "      <td>56</td>\n",
              "    </tr>\n",
              "    <tr>\n",
              "      <th>2</th>\n",
              "      <td>0.393</td>\n",
              "      <td>81</td>\n",
              "      <td>0.277</td>\n",
              "      <td>63</td>\n",
              "    </tr>\n",
              "    <tr>\n",
              "      <th>3</th>\n",
              "      <td>0.425</td>\n",
              "      <td>80</td>\n",
              "      <td>0.280</td>\n",
              "      <td>68</td>\n",
              "    </tr>\n",
              "    <tr>\n",
              "      <th>4</th>\n",
              "      <td>0.406</td>\n",
              "      <td>76</td>\n",
              "      <td>0.272</td>\n",
              "      <td>69</td>\n",
              "    </tr>\n",
              "  </tbody>\n",
              "</table>\n",
              "</div>"
            ],
            "text/plain": [
              "    cons  income  price  temp\n",
              "0  0.386      78  0.270    41\n",
              "1  0.374      79  0.282    56\n",
              "2  0.393      81  0.277    63\n",
              "3  0.425      80  0.280    68\n",
              "4  0.406      76  0.272    69"
            ]
          },
          "metadata": {
            "tags": []
          },
          "execution_count": 11
        }
      ]
    },
    {
      "cell_type": "code",
      "metadata": {
        "id": "jnsuF9YCpwvg",
        "colab": {
          "base_uri": "https://localhost:8080/",
          "height": 297
        },
        "outputId": "9d873e43-11db-486b-aa9d-6f88e3fd1bc4"
      },
      "source": [
        "icecream.describe()"
      ],
      "execution_count": null,
      "outputs": [
        {
          "output_type": "execute_result",
          "data": {
            "text/html": [
              "<div>\n",
              "<style scoped>\n",
              "    .dataframe tbody tr th:only-of-type {\n",
              "        vertical-align: middle;\n",
              "    }\n",
              "\n",
              "    .dataframe tbody tr th {\n",
              "        vertical-align: top;\n",
              "    }\n",
              "\n",
              "    .dataframe thead th {\n",
              "        text-align: right;\n",
              "    }\n",
              "</style>\n",
              "<table border=\"1\" class=\"dataframe\">\n",
              "  <thead>\n",
              "    <tr style=\"text-align: right;\">\n",
              "      <th></th>\n",
              "      <th>cons</th>\n",
              "      <th>income</th>\n",
              "      <th>price</th>\n",
              "      <th>temp</th>\n",
              "    </tr>\n",
              "  </thead>\n",
              "  <tbody>\n",
              "    <tr>\n",
              "      <th>count</th>\n",
              "      <td>30.000000</td>\n",
              "      <td>30.00000</td>\n",
              "      <td>30.000000</td>\n",
              "      <td>30.000000</td>\n",
              "    </tr>\n",
              "    <tr>\n",
              "      <th>mean</th>\n",
              "      <td>0.359433</td>\n",
              "      <td>84.60000</td>\n",
              "      <td>0.275300</td>\n",
              "      <td>49.100000</td>\n",
              "    </tr>\n",
              "    <tr>\n",
              "      <th>std</th>\n",
              "      <td>0.065791</td>\n",
              "      <td>6.24555</td>\n",
              "      <td>0.008342</td>\n",
              "      <td>16.421916</td>\n",
              "    </tr>\n",
              "    <tr>\n",
              "      <th>min</th>\n",
              "      <td>0.256000</td>\n",
              "      <td>76.00000</td>\n",
              "      <td>0.260000</td>\n",
              "      <td>24.000000</td>\n",
              "    </tr>\n",
              "    <tr>\n",
              "      <th>25%</th>\n",
              "      <td>0.311250</td>\n",
              "      <td>79.25000</td>\n",
              "      <td>0.268500</td>\n",
              "      <td>32.250000</td>\n",
              "    </tr>\n",
              "    <tr>\n",
              "      <th>50%</th>\n",
              "      <td>0.351500</td>\n",
              "      <td>83.50000</td>\n",
              "      <td>0.277000</td>\n",
              "      <td>49.500000</td>\n",
              "    </tr>\n",
              "    <tr>\n",
              "      <th>75%</th>\n",
              "      <td>0.391250</td>\n",
              "      <td>89.25000</td>\n",
              "      <td>0.281500</td>\n",
              "      <td>63.750000</td>\n",
              "    </tr>\n",
              "    <tr>\n",
              "      <th>max</th>\n",
              "      <td>0.548000</td>\n",
              "      <td>96.00000</td>\n",
              "      <td>0.292000</td>\n",
              "      <td>72.000000</td>\n",
              "    </tr>\n",
              "  </tbody>\n",
              "</table>\n",
              "</div>"
            ],
            "text/plain": [
              "            cons    income      price       temp\n",
              "count  30.000000  30.00000  30.000000  30.000000\n",
              "mean    0.359433  84.60000   0.275300  49.100000\n",
              "std     0.065791   6.24555   0.008342  16.421916\n",
              "min     0.256000  76.00000   0.260000  24.000000\n",
              "25%     0.311250  79.25000   0.268500  32.250000\n",
              "50%     0.351500  83.50000   0.277000  49.500000\n",
              "75%     0.391250  89.25000   0.281500  63.750000\n",
              "max     0.548000  96.00000   0.292000  72.000000"
            ]
          },
          "metadata": {
            "tags": []
          },
          "execution_count": 12
        }
      ]
    },
    {
      "cell_type": "code",
      "metadata": {
        "id": "omOzRjCBqm_N",
        "colab": {
          "base_uri": "https://localhost:8080/",
          "height": 396
        },
        "outputId": "c57e42e3-ca8b-47b4-8d7f-fd5fb8b6eabe"
      },
      "source": [
        "#산점도\n",
        "p = pd.plotting.scatter_matrix(icecream, figsize=(6,6), marker = 'o')"
      ],
      "execution_count": null,
      "outputs": [
        {
          "output_type": "display_data",
          "data": {
            "image/png": "[encoded data removed]",
            "text/plain": [
              "<Figure size 432x432 with 16 Axes>"
            ]
          },
          "metadata": {
            "tags": [],
            "needs_background": "light"
          }
        }
      ]
    },
    {
      "cell_type": "code",
      "metadata": {
        "id": "p1Y-TFC1qIC4",
        "colab": {
          "base_uri": "https://localhost:8080/",
          "height": 444
        },
        "outputId": "d98427e7-e814-45b2-d897-12ffb86bdc30"
      },
      "source": [
        "##단순 선형 회귀분석\n",
        "# Regrssion : 소비 금액(cons) - 평균기온(temps) \n",
        "reg_1 = ols('cons~ temp', data= icecream).fit()\n",
        "reg_1.summary()"
      ],
      "execution_count": null,
      "outputs": [
        {
          "output_type": "execute_result",
          "data": {
            "text/html": [
              "<table class=\"simpletable\">\n",
              "<caption>OLS Regression Results</caption>\n",
              "<tr>\n",
              "  <th>Dep. Variable:</th>          <td>cons</td>       <th>  R-squared:         </th> <td>   0.602</td>\n",
              "</tr>\n",
              "<tr>\n",
              "  <th>Model:</th>                   <td>OLS</td>       <th>  Adj. R-squared:    </th> <td>   0.587</td>\n",
              "</tr>\n",
              "<tr>\n",
              "  <th>Method:</th>             <td>Least Squares</td>  <th>  F-statistic:       </th> <td>   42.28</td>\n",
              "</tr>\n",
              "<tr>\n",
              "  <th>Date:</th>             <td>Sun, 24 May 2020</td> <th>  Prob (F-statistic):</th> <td>4.79e-07</td>\n",
              "</tr>\n",
              "<tr>\n",
              "  <th>Time:</th>                 <td>07:52:35</td>     <th>  Log-Likelihood:    </th> <td>  53.383</td>\n",
              "</tr>\n",
              "<tr>\n",
              "  <th>No. Observations:</th>      <td>    30</td>      <th>  AIC:               </th> <td>  -102.8</td>\n",
              "</tr>\n",
              "<tr>\n",
              "  <th>Df Residuals:</th>          <td>    28</td>      <th>  BIC:               </th> <td>  -99.96</td>\n",
              "</tr>\n",
              "<tr>\n",
              "  <th>Df Model:</th>              <td>     1</td>      <th>                     </th>     <td> </td>   \n",
              "</tr>\n",
              "<tr>\n",
              "  <th>Covariance Type:</th>      <td>nonrobust</td>    <th>                     </th>     <td> </td>   \n",
              "</tr>\n",
              "</table>\n",
              "<table class=\"simpletable\">\n",
              "<tr>\n",
              "      <td></td>         <th>coef</th>     <th>std err</th>      <th>t</th>      <th>P>|t|</th>  <th>[0.025</th>    <th>0.975]</th>  \n",
              "</tr>\n",
              "<tr>\n",
              "  <th>Intercept</th> <td>    0.2069</td> <td>    0.025</td> <td>    8.375</td> <td> 0.000</td> <td>    0.156</td> <td>    0.257</td>\n",
              "</tr>\n",
              "<tr>\n",
              "  <th>temp</th>      <td>    0.0031</td> <td>    0.000</td> <td>    6.502</td> <td> 0.000</td> <td>    0.002</td> <td>    0.004</td>\n",
              "</tr>\n",
              "</table>\n",
              "<table class=\"simpletable\">\n",
              "<tr>\n",
              "  <th>Omnibus:</th>       <td> 3.763</td> <th>  Durbin-Watson:     </th> <td>   0.624</td>\n",
              "</tr>\n",
              "<tr>\n",
              "  <th>Prob(Omnibus):</th> <td> 0.152</td> <th>  Jarque-Bera (JB):  </th> <td>   2.260</td>\n",
              "</tr>\n",
              "<tr>\n",
              "  <th>Skew:</th>          <td> 0.577</td> <th>  Prob(JB):          </th> <td>   0.323</td>\n",
              "</tr>\n",
              "<tr>\n",
              "  <th>Kurtosis:</th>      <td> 3.688</td> <th>  Cond. No.          </th> <td>    166.</td>\n",
              "</tr>\n",
              "</table><br/><br/>Warnings:<br/>[1] Standard Errors assume that the covariance matrix of the errors is correctly specified."
            ],
            "text/plain": [
              "<class 'statsmodels.iolib.summary.Summary'>\n",
              "\"\"\"\n",
              "                            OLS Regression Results                            \n",
              "==============================================================================\n",
              "Dep. Variable:                   cons   R-squared:                       0.602\n",
              "Model:                            OLS   Adj. R-squared:                  0.587\n",
              "Method:                 Least Squares   F-statistic:                     42.28\n",
              "Date:                Sun, 24 May 2020   Prob (F-statistic):           4.79e-07\n",
              "Time:                        07:52:35   Log-Likelihood:                 53.383\n",
              "No. Observations:                  30   AIC:                            -102.8\n",
              "Df Residuals:                      28   BIC:                            -99.96\n",
              "Df Model:                           1                                         \n",
              "Covariance Type:            nonrobust                                         \n",
              "==============================================================================\n",
              "                 coef    std err          t      P>|t|      [0.025      0.975]\n",
              "------------------------------------------------------------------------------\n",
              "Intercept      0.2069      0.025      8.375      0.000       0.156       0.257\n",
              "temp           0.0031      0.000      6.502      0.000       0.002       0.004\n",
              "==============================================================================\n",
              "Omnibus:                        3.763   Durbin-Watson:                   0.624\n",
              "Prob(Omnibus):                  0.152   Jarque-Bera (JB):                2.260\n",
              "Skew:                           0.577   Prob(JB):                        0.323\n",
              "Kurtosis:                       3.688   Cond. No.                         166.\n",
              "==============================================================================\n",
              "\n",
              "Warnings:\n",
              "[1] Standard Errors assume that the covariance matrix of the errors is correctly specified.\n",
              "\"\"\""
            ]
          },
          "metadata": {
            "tags": []
          },
          "execution_count": 14
        }
      ]
    },
    {
      "cell_type": "markdown",
      "metadata": {
        "id": "SaLgPC7vq9tR"
      },
      "source": [
        " - 기온이 1도 증가하면 소비 금액이 0.0031만큼 증가한다. p-value가 0.05보다 작으므로 대립가설을 채택한다."
      ]
    },
    {
      "cell_type": "code",
      "metadata": {
        "id": "BfoiXnFOq1Hn",
        "colab": {
          "base_uri": "https://localhost:8080/",
          "height": 265
        },
        "outputId": "4e8c8c7d-0f99-482f-879c-5352be22e64a"
      },
      "source": [
        "plt.scatter(Icecream['temp'],Icecream['cons'])\n",
        "plt.plot(Icecream['temp'],reg_1.predict(), 'red')\n",
        "plt.show()\n"
      ],
      "execution_count": null,
      "outputs": [
        {
          "output_type": "display_data",
          "data": {
            "image/png": "[encoded data removed]",
            "text/plain": [
              "<Figure size 432x288 with 1 Axes>"
            ]
          },
          "metadata": {
            "tags": [],
            "needs_background": "light"
          }
        }
      ]
    },
    {
      "cell_type": "code",
      "metadata": {
        "id": "vc41XWolrsdw",
        "colab": {
          "base_uri": "https://localhost:8080/",
          "height": 478
        },
        "outputId": "a290e77b-fd78-445b-921a-b50acdaac277"
      },
      "source": [
        "### 단순선형 회귀분석\n",
        "#Regression 2: 소비금액(cons) ~ 주당 평균 가족 소득(income)\n",
        "reg_2 = ols('cons~income', data = icecream).fit()\n",
        "reg_2.summary()"
      ],
      "execution_count": null,
      "outputs": [
        {
          "output_type": "execute_result",
          "data": {
            "text/html": [
              "<table class=\"simpletable\">\n",
              "<caption>OLS Regression Results</caption>\n",
              "<tr>\n",
              "  <th>Dep. Variable:</th>          <td>cons</td>       <th>  R-squared:         </th> <td>   0.002</td>\n",
              "</tr>\n",
              "<tr>\n",
              "  <th>Model:</th>                   <td>OLS</td>       <th>  Adj. R-squared:    </th> <td>  -0.033</td>\n",
              "</tr>\n",
              "<tr>\n",
              "  <th>Method:</th>             <td>Least Squares</td>  <th>  F-statistic:       </th> <td> 0.06449</td>\n",
              "</tr>\n",
              "<tr>\n",
              "  <th>Date:</th>             <td>Sun, 24 May 2020</td> <th>  Prob (F-statistic):</th>  <td> 0.801</td> \n",
              "</tr>\n",
              "<tr>\n",
              "  <th>Time:</th>                 <td>07:57:46</td>     <th>  Log-Likelihood:    </th> <td>  39.613</td>\n",
              "</tr>\n",
              "<tr>\n",
              "  <th>No. Observations:</th>      <td>    30</td>      <th>  AIC:               </th> <td>  -75.23</td>\n",
              "</tr>\n",
              "<tr>\n",
              "  <th>Df Residuals:</th>          <td>    28</td>      <th>  BIC:               </th> <td>  -72.42</td>\n",
              "</tr>\n",
              "<tr>\n",
              "  <th>Df Model:</th>              <td>     1</td>      <th>                     </th>     <td> </td>   \n",
              "</tr>\n",
              "<tr>\n",
              "  <th>Covariance Type:</th>      <td>nonrobust</td>    <th>                     </th>     <td> </td>   \n",
              "</tr>\n",
              "</table>\n",
              "<table class=\"simpletable\">\n",
              "<tr>\n",
              "      <td></td>         <th>coef</th>     <th>std err</th>      <th>t</th>      <th>P>|t|</th>  <th>[0.025</th>    <th>0.975]</th>  \n",
              "</tr>\n",
              "<tr>\n",
              "  <th>Intercept</th> <td>    0.3167</td> <td>    0.169</td> <td>    1.878</td> <td> 0.071</td> <td>   -0.029</td> <td>    0.662</td>\n",
              "</tr>\n",
              "<tr>\n",
              "  <th>income</th>    <td>    0.0005</td> <td>    0.002</td> <td>    0.254</td> <td> 0.801</td> <td>   -0.004</td> <td>    0.005</td>\n",
              "</tr>\n",
              "</table>\n",
              "<table class=\"simpletable\">\n",
              "<tr>\n",
              "  <th>Omnibus:</th>       <td> 4.223</td> <th>  Durbin-Watson:     </th> <td>   0.393</td>\n",
              "</tr>\n",
              "<tr>\n",
              "  <th>Prob(Omnibus):</th> <td> 0.121</td> <th>  Jarque-Bera (JB):  </th> <td>   2.877</td>\n",
              "</tr>\n",
              "<tr>\n",
              "  <th>Skew:</th>          <td> 0.733</td> <th>  Prob(JB):          </th> <td>   0.237</td>\n",
              "</tr>\n",
              "<tr>\n",
              "  <th>Kurtosis:</th>      <td> 3.387</td> <th>  Cond. No.          </th> <td>1.17e+03</td>\n",
              "</tr>\n",
              "</table><br/><br/>Warnings:<br/>[1] Standard Errors assume that the covariance matrix of the errors is correctly specified.<br/>[2] The condition number is large, 1.17e+03. This might indicate that there are<br/>strong multicollinearity or other numerical problems."
            ],
            "text/plain": [
              "<class 'statsmodels.iolib.summary.Summary'>\n",
              "\"\"\"\n",
              "                            OLS Regression Results                            \n",
              "==============================================================================\n",
              "Dep. Variable:                   cons   R-squared:                       0.002\n",
              "Model:                            OLS   Adj. R-squared:                 -0.033\n",
              "Method:                 Least Squares   F-statistic:                   0.06449\n",
              "Date:                Sun, 24 May 2020   Prob (F-statistic):              0.801\n",
              "Time:                        07:57:46   Log-Likelihood:                 39.613\n",
              "No. Observations:                  30   AIC:                            -75.23\n",
              "Df Residuals:                      28   BIC:                            -72.42\n",
              "Df Model:                           1                                         \n",
              "Covariance Type:            nonrobust                                         \n",
              "==============================================================================\n",
              "                 coef    std err          t      P>|t|      [0.025      0.975]\n",
              "------------------------------------------------------------------------------\n",
              "Intercept      0.3167      0.169      1.878      0.071      -0.029       0.662\n",
              "income         0.0005      0.002      0.254      0.801      -0.004       0.005\n",
              "==============================================================================\n",
              "Omnibus:                        4.223   Durbin-Watson:                   0.393\n",
              "Prob(Omnibus):                  0.121   Jarque-Bera (JB):                2.877\n",
              "Skew:                           0.733   Prob(JB):                        0.237\n",
              "Kurtosis:                       3.387   Cond. No.                     1.17e+03\n",
              "==============================================================================\n",
              "\n",
              "Warnings:\n",
              "[1] Standard Errors assume that the covariance matrix of the errors is correctly specified.\n",
              "[2] The condition number is large, 1.17e+03. This might indicate that there are\n",
              "strong multicollinearity or other numerical problems.\n",
              "\"\"\""
            ]
          },
          "metadata": {
            "tags": []
          },
          "execution_count": 17
        }
      ]
    },
    {
      "cell_type": "code",
      "metadata": {
        "id": "o9QrfoYxsBKz",
        "colab": {
          "base_uri": "https://localhost:8080/",
          "height": 499
        },
        "outputId": "f2254f5e-bcb2-4f10-9629-ee82a2fffd04"
      },
      "source": [
        "#다중 선형 회귀분석\n",
        "# Regression 3: cons ~ temp + income\n",
        "reg_3=ols('cons ~ temp + income', data=Icecream).fit()\n",
        "reg_3.summary()"
      ],
      "execution_count": null,
      "outputs": [
        {
          "output_type": "execute_result",
          "data": {
            "text/html": [
              "<table class=\"simpletable\">\n",
              "<caption>OLS Regression Results</caption>\n",
              "<tr>\n",
              "  <th>Dep. Variable:</th>          <td>cons</td>       <th>  R-squared:         </th> <td>   0.702</td>\n",
              "</tr>\n",
              "<tr>\n",
              "  <th>Model:</th>                   <td>OLS</td>       <th>  Adj. R-squared:    </th> <td>   0.680</td>\n",
              "</tr>\n",
              "<tr>\n",
              "  <th>Method:</th>             <td>Least Squares</td>  <th>  F-statistic:       </th> <td>   31.81</td>\n",
              "</tr>\n",
              "<tr>\n",
              "  <th>Date:</th>             <td>Sun, 24 May 2020</td> <th>  Prob (F-statistic):</th> <td>7.96e-08</td>\n",
              "</tr>\n",
              "<tr>\n",
              "  <th>Time:</th>                 <td>07:58:39</td>     <th>  Log-Likelihood:    </th> <td>  57.742</td>\n",
              "</tr>\n",
              "<tr>\n",
              "  <th>No. Observations:</th>      <td>    30</td>      <th>  AIC:               </th> <td>  -109.5</td>\n",
              "</tr>\n",
              "<tr>\n",
              "  <th>Df Residuals:</th>          <td>    27</td>      <th>  BIC:               </th> <td>  -105.3</td>\n",
              "</tr>\n",
              "<tr>\n",
              "  <th>Df Model:</th>              <td>     2</td>      <th>                     </th>     <td> </td>   \n",
              "</tr>\n",
              "<tr>\n",
              "  <th>Covariance Type:</th>      <td>nonrobust</td>    <th>                     </th>     <td> </td>   \n",
              "</tr>\n",
              "</table>\n",
              "<table class=\"simpletable\">\n",
              "<tr>\n",
              "      <td></td>         <th>coef</th>     <th>std err</th>      <th>t</th>      <th>P>|t|</th>  <th>[0.025</th>    <th>0.975]</th>  \n",
              "</tr>\n",
              "<tr>\n",
              "  <th>Intercept</th> <td>   -0.1132</td> <td>    0.108</td> <td>   -1.045</td> <td> 0.305</td> <td>   -0.335</td> <td>    0.109</td>\n",
              "</tr>\n",
              "<tr>\n",
              "  <th>temp</th>      <td>    0.0035</td> <td>    0.000</td> <td>    7.963</td> <td> 0.000</td> <td>    0.003</td> <td>    0.004</td>\n",
              "</tr>\n",
              "<tr>\n",
              "  <th>income</th>    <td>    0.0035</td> <td>    0.001</td> <td>    3.017</td> <td> 0.006</td> <td>    0.001</td> <td>    0.006</td>\n",
              "</tr>\n",
              "</table>\n",
              "<table class=\"simpletable\">\n",
              "<tr>\n",
              "  <th>Omnibus:</th>       <td> 2.264</td> <th>  Durbin-Watson:     </th> <td>   1.003</td>\n",
              "</tr>\n",
              "<tr>\n",
              "  <th>Prob(Omnibus):</th> <td> 0.322</td> <th>  Jarque-Bera (JB):  </th> <td>   1.094</td>\n",
              "</tr>\n",
              "<tr>\n",
              "  <th>Skew:</th>          <td> 0.386</td> <th>  Prob(JB):          </th> <td>   0.579</td>\n",
              "</tr>\n",
              "<tr>\n",
              "  <th>Kurtosis:</th>      <td> 3.528</td> <th>  Cond. No.          </th> <td>1.56e+03</td>\n",
              "</tr>\n",
              "</table><br/><br/>Warnings:<br/>[1] Standard Errors assume that the covariance matrix of the errors is correctly specified.<br/>[2] The condition number is large, 1.56e+03. This might indicate that there are<br/>strong multicollinearity or other numerical problems."
            ],
            "text/plain": [
              "<class 'statsmodels.iolib.summary.Summary'>\n",
              "\"\"\"\n",
              "                            OLS Regression Results                            \n",
              "==============================================================================\n",
              "Dep. Variable:                   cons   R-squared:                       0.702\n",
              "Model:                            OLS   Adj. R-squared:                  0.680\n",
              "Method:                 Least Squares   F-statistic:                     31.81\n",
              "Date:                Sun, 24 May 2020   Prob (F-statistic):           7.96e-08\n",
              "Time:                        07:58:39   Log-Likelihood:                 57.742\n",
              "No. Observations:                  30   AIC:                            -109.5\n",
              "Df Residuals:                      27   BIC:                            -105.3\n",
              "Df Model:                           2                                         \n",
              "Covariance Type:            nonrobust                                         \n",
              "==============================================================================\n",
              "                 coef    std err          t      P>|t|      [0.025      0.975]\n",
              "------------------------------------------------------------------------------\n",
              "Intercept     -0.1132      0.108     -1.045      0.305      -0.335       0.109\n",
              "temp           0.0035      0.000      7.963      0.000       0.003       0.004\n",
              "income         0.0035      0.001      3.017      0.006       0.001       0.006\n",
              "==============================================================================\n",
              "Omnibus:                        2.264   Durbin-Watson:                   1.003\n",
              "Prob(Omnibus):                  0.322   Jarque-Bera (JB):                1.094\n",
              "Skew:                           0.386   Prob(JB):                        0.579\n",
              "Kurtosis:                       3.528   Cond. No.                     1.56e+03\n",
              "==============================================================================\n",
              "\n",
              "Warnings:\n",
              "[1] Standard Errors assume that the covariance matrix of the errors is correctly specified.\n",
              "[2] The condition number is large, 1.56e+03. This might indicate that there are\n",
              "strong multicollinearity or other numerical problems.\n",
              "\"\"\""
            ]
          },
          "metadata": {
            "tags": []
          },
          "execution_count": 18
        }
      ]
    },
    {
      "cell_type": "markdown",
      "metadata": {
        "id": "Jx2KRXylsRIu"
      },
      "source": [
        "회귀 모형의 검정결과, 유의수준 0.05보다 작으므로 추정된 회귀모델은 유의하다고 할 수 있다."
      ]
    },
    {
      "cell_type": "code",
      "metadata": {
        "id": "Rc-pitSZsOBa",
        "colab": {
          "base_uri": "https://localhost:8080/",
          "height": 520
        },
        "outputId": "91778d2b-0513-49c0-c210-2f3808314221"
      },
      "source": [
        "### 다중 선형 회귀분석\n",
        "# Regression 4 : con ~ temp + income + price\n",
        "reg_4=ols('cons ~ temp + income+price', data=Icecream).fit()\n",
        "reg_4.summary()"
      ],
      "execution_count": null,
      "outputs": [
        {
          "output_type": "execute_result",
          "data": {
            "text/html": [
              "<table class=\"simpletable\">\n",
              "<caption>OLS Regression Results</caption>\n",
              "<tr>\n",
              "  <th>Dep. Variable:</th>          <td>cons</td>       <th>  R-squared:         </th> <td>   0.719</td>\n",
              "</tr>\n",
              "<tr>\n",
              "  <th>Model:</th>                   <td>OLS</td>       <th>  Adj. R-squared:    </th> <td>   0.687</td>\n",
              "</tr>\n",
              "<tr>\n",
              "  <th>Method:</th>             <td>Least Squares</td>  <th>  F-statistic:       </th> <td>   22.17</td>\n",
              "</tr>\n",
              "<tr>\n",
              "  <th>Date:</th>             <td>Sun, 24 May 2020</td> <th>  Prob (F-statistic):</th> <td>2.45e-07</td>\n",
              "</tr>\n",
              "<tr>\n",
              "  <th>Time:</th>                 <td>08:01:22</td>     <th>  Log-Likelihood:    </th> <td>  58.619</td>\n",
              "</tr>\n",
              "<tr>\n",
              "  <th>No. Observations:</th>      <td>    30</td>      <th>  AIC:               </th> <td>  -109.2</td>\n",
              "</tr>\n",
              "<tr>\n",
              "  <th>Df Residuals:</th>          <td>    26</td>      <th>  BIC:               </th> <td>  -103.6</td>\n",
              "</tr>\n",
              "<tr>\n",
              "  <th>Df Model:</th>              <td>     3</td>      <th>                     </th>     <td> </td>   \n",
              "</tr>\n",
              "<tr>\n",
              "  <th>Covariance Type:</th>      <td>nonrobust</td>    <th>                     </th>     <td> </td>   \n",
              "</tr>\n",
              "</table>\n",
              "<table class=\"simpletable\">\n",
              "<tr>\n",
              "      <td></td>         <th>coef</th>     <th>std err</th>      <th>t</th>      <th>P>|t|</th>  <th>[0.025</th>    <th>0.975]</th>  \n",
              "</tr>\n",
              "<tr>\n",
              "  <th>Intercept</th> <td>    0.1973</td> <td>    0.270</td> <td>    0.730</td> <td> 0.472</td> <td>   -0.358</td> <td>    0.753</td>\n",
              "</tr>\n",
              "<tr>\n",
              "  <th>temp</th>      <td>    0.0035</td> <td>    0.000</td> <td>    7.762</td> <td> 0.000</td> <td>    0.003</td> <td>    0.004</td>\n",
              "</tr>\n",
              "<tr>\n",
              "  <th>income</th>    <td>    0.0033</td> <td>    0.001</td> <td>    2.824</td> <td> 0.009</td> <td>    0.001</td> <td>    0.006</td>\n",
              "</tr>\n",
              "<tr>\n",
              "  <th>price</th>     <td>   -1.0444</td> <td>    0.834</td> <td>   -1.252</td> <td> 0.222</td> <td>   -2.759</td> <td>    0.671</td>\n",
              "</tr>\n",
              "</table>\n",
              "<table class=\"simpletable\">\n",
              "<tr>\n",
              "  <th>Omnibus:</th>       <td> 0.565</td> <th>  Durbin-Watson:     </th> <td>   1.021</td>\n",
              "</tr>\n",
              "<tr>\n",
              "  <th>Prob(Omnibus):</th> <td> 0.754</td> <th>  Jarque-Bera (JB):  </th> <td>   0.047</td>\n",
              "</tr>\n",
              "<tr>\n",
              "  <th>Skew:</th>          <td> 0.038</td> <th>  Prob(JB):          </th> <td>   0.977</td>\n",
              "</tr>\n",
              "<tr>\n",
              "  <th>Kurtosis:</th>      <td> 3.179</td> <th>  Cond. No.          </th> <td>1.27e+04</td>\n",
              "</tr>\n",
              "</table><br/><br/>Warnings:<br/>[1] Standard Errors assume that the covariance matrix of the errors is correctly specified.<br/>[2] The condition number is large, 1.27e+04. This might indicate that there are<br/>strong multicollinearity or other numerical problems."
            ],
            "text/plain": [
              "<class 'statsmodels.iolib.summary.Summary'>\n",
              "\"\"\"\n",
              "                            OLS Regression Results                            \n",
              "==============================================================================\n",
              "Dep. Variable:                   cons   R-squared:                       0.719\n",
              "Model:                            OLS   Adj. R-squared:                  0.687\n",
              "Method:                 Least Squares   F-statistic:                     22.17\n",
              "Date:                Sun, 24 May 2020   Prob (F-statistic):           2.45e-07\n",
              "Time:                        08:01:22   Log-Likelihood:                 58.619\n",
              "No. Observations:                  30   AIC:                            -109.2\n",
              "Df Residuals:                      26   BIC:                            -103.6\n",
              "Df Model:                           3                                         \n",
              "Covariance Type:            nonrobust                                         \n",
              "==============================================================================\n",
              "                 coef    std err          t      P>|t|      [0.025      0.975]\n",
              "------------------------------------------------------------------------------\n",
              "Intercept      0.1973      0.270      0.730      0.472      -0.358       0.753\n",
              "temp           0.0035      0.000      7.762      0.000       0.003       0.004\n",
              "income         0.0033      0.001      2.824      0.009       0.001       0.006\n",
              "price         -1.0444      0.834     -1.252      0.222      -2.759       0.671\n",
              "==============================================================================\n",
              "Omnibus:                        0.565   Durbin-Watson:                   1.021\n",
              "Prob(Omnibus):                  0.754   Jarque-Bera (JB):                0.047\n",
              "Skew:                           0.038   Prob(JB):                        0.977\n",
              "Kurtosis:                       3.179   Cond. No.                     1.27e+04\n",
              "==============================================================================\n",
              "\n",
              "Warnings:\n",
              "[1] Standard Errors assume that the covariance matrix of the errors is correctly specified.\n",
              "[2] The condition number is large, 1.27e+04. This might indicate that there are\n",
              "strong multicollinearity or other numerical problems.\n",
              "\"\"\""
            ]
          },
          "metadata": {
            "tags": []
          },
          "execution_count": 19
        }
      ]
    },
    {
      "cell_type": "code",
      "metadata": {
        "id": "Qs_35RTbs11q"
      },
      "source": [
        ""
      ],
      "execution_count": null,
      "outputs": []
    }
  ]
}