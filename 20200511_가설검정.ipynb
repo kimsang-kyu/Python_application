{
  "nbformat": 4,
  "nbformat_minor": 0,
  "metadata": {
    "colab": {
      "name": "20200511_가설검정.ipynb",
      "provenance": [],
      "collapsed_sections": [],
      "authorship_tag": "ABX9TyOkPkSBTZoRoVj7/iIzzfk0",
      "include_colab_link": true
    },
    "kernelspec": {
      "name": "python3",
      "display_name": "Python 3"
    }
  },
  "cells": [
    {
      "cell_type": "markdown",
      "metadata": {
        "id": "view-in-github",
        "colab_type": "text"
      },
      "source": [
        "<a href=\"https://colab.research.google.com/github/kimsang-kyu/Python_application/blob/main/20200511_%EA%B0%80%EC%84%A4%EA%B2%80%EC%A0%95.ipynb\" target=\"_parent\"><img src=\"https://colab.research.google.com/assets/colab-badge.svg\" alt=\"Open In Colab\"/></a>"
      ]
    },
    {
      "cell_type": "code",
      "metadata": {
        "id": "D9NEi_7kLQgX"
      },
      "source": [
        "###library\n",
        "import pandas as pd\n",
        "import numpy as np\n",
        "from scipy import stats"
      ],
      "execution_count": null,
      "outputs": []
    },
    {
      "cell_type": "code",
      "metadata": {
        "id": "t1ZnnykZRpHS"
      },
      "source": [
        "pop_var = 16\n",
        "x = pd.Series([5.9,6.8,10.2,14.0,17.3,10.1,4.6,9.5,7.5,9.8])"
      ],
      "execution_count": null,
      "outputs": []
    },
    {
      "cell_type": "code",
      "metadata": {
        "id": "v9Ok9IiARp2R",
        "colab": {
          "base_uri": "https://localhost:8080/",
          "height": 35
        },
        "outputId": "66baa6ad-f343-4ab3-b600-5ad99bde637e"
      },
      "source": [
        "#평균의 점추정량\n",
        "round(x.mean(),4)"
      ],
      "execution_count": null,
      "outputs": [
        {
          "output_type": "execute_result",
          "data": {
            "text/plain": [
              "9.57"
            ]
          },
          "metadata": {
            "tags": []
          },
          "execution_count": 3
        }
      ]
    },
    {
      "cell_type": "code",
      "metadata": {
        "id": "S9V5MjUCRrIe",
        "colab": {
          "base_uri": "https://localhost:8080/",
          "height": 71
        },
        "outputId": "95affee5-d411-4677-9450-02f561394fad"
      },
      "source": [
        "#95% 신뢰구간\n",
        "alpha = 0.05\n",
        "n = x.size\n",
        "c_025 = stats.norm.ppf(1-alpha/2)\n",
        "pop_sd = np.sqrt(pop_var)\n",
        "err = c_025 * pop_sd / np.sqrt(n)\n",
        "Cl_95 = pd.Series([np.mean(x)-err, np.mean(x)+err])\n",
        "Cl_95.round(2)"
      ],
      "execution_count": null,
      "outputs": [
        {
          "output_type": "execute_result",
          "data": {
            "text/plain": [
              "0     7.09\n",
              "1    12.05\n",
              "dtype: float64"
            ]
          },
          "metadata": {
            "tags": []
          },
          "execution_count": 10
        }
      ]
    },
    {
      "cell_type": "markdown",
      "metadata": {
        "id": "WN6hieofRuMz"
      },
      "source": [
        "###분산을 모르는 경우"
      ]
    },
    {
      "cell_type": "code",
      "metadata": {
        "id": "bUGe0j6WRs4p",
        "colab": {
          "base_uri": "https://localhost:8080/",
          "height": 71
        },
        "outputId": "99867f48-4cfc-4369-d088-1d0da7fa465f"
      },
      "source": [
        "alpha = 0.05\n",
        "n = x.size\n",
        "c_025 = stats.t(n-1).ppf(1-alpha/2)\n",
        "x_sd = x.std()\n",
        "err = c_025 * x_sd / np.sqrt(n)\n",
        "Cl_95 = pd.Series([np.mean(x)-err, np.mean(x)+err])\n",
        "Cl_95.round(2)"
      ],
      "execution_count": null,
      "outputs": [
        {
          "output_type": "execute_result",
          "data": {
            "text/plain": [
              "0     6.85\n",
              "1    12.29\n",
              "dtype: float64"
            ]
          },
          "metadata": {
            "tags": []
          },
          "execution_count": 9
        }
      ]
    },
    {
      "cell_type": "code",
      "metadata": {
        "id": "saTftBUqUH2N",
        "colab": {
          "base_uri": "https://localhost:8080/",
          "height": 71
        },
        "outputId": "38ba2c1a-4445-460e-fd1b-07f7aa4bbaf8"
      },
      "source": [
        "alpha = 0.05\n",
        "n = x.size\n",
        "x_var = x.var()\n",
        "c_025 = stats.chi2(n-1).ppf(1-alpha/2)\n",
        "c_975 = stats.chi2(n-1).ppf(alpha/2)\n",
        "Cl_95 = pd.Series([(n-1)*x_var/c_025, (n-1)*x_var/c_975])\n",
        "Cl_95.round(2)"
      ],
      "execution_count": null,
      "outputs": [
        {
          "output_type": "execute_result",
          "data": {
            "text/plain": [
              "0     6.85\n",
              "1    48.23\n",
              "dtype: float64"
            ]
          },
          "metadata": {
            "tags": []
          },
          "execution_count": 12
        }
      ]
    },
    {
      "cell_type": "markdown",
      "metadata": {
        "id": "VSotuke3XGZc"
      },
      "source": [
        "> 어느 도시에서 지방선거를 앞두고 1000명의 유권자에게 특정 후보에 대한지지 여부를 조사하였더니 "
      ]
    },
    {
      "cell_type": "code",
      "metadata": {
        "id": "2TRveap6XFyX",
        "colab": {
          "base_uri": "https://localhost:8080/",
          "height": 71
        },
        "outputId": "2d81b1cc-bd77-45d0-ce20-2a7b68cf63de"
      },
      "source": [
        "n = 1000\n",
        "p_hat = 540/n\n",
        "#p에 대한 95% 신뢰구간\n",
        "alpha - 0.05\n",
        "c_025 = stats.norm.ppf(1-alpha/2)\n",
        "err = c_025 * np.sqrt(p_hat*(1-p_hat)/n)\n",
        "Cl_95 = pd.Series([p_hat-err,p_hat+err])\n",
        "Cl_95.round(2)"
      ],
      "execution_count": null,
      "outputs": [
        {
          "output_type": "execute_result",
          "data": {
            "text/plain": [
              "0    0.51\n",
              "1    0.57\n",
              "dtype: float64"
            ]
          },
          "metadata": {
            "tags": []
          },
          "execution_count": 14
        }
      ]
    },
    {
      "cell_type": "code",
      "metadata": {
        "id": "qfeSOcu0Y2JG",
        "colab": {
          "base_uri": "https://localhost:8080/",
          "height": 35
        },
        "outputId": "48850f3c-9534-4f84-d0c0-6dfad6d4737a"
      },
      "source": [
        "data_file = 'http://youngho.iwinv.net/data/titanic.csv'\n",
        "data_raw = pd.read_csv(data_file)\n",
        "data_raw.shape"
      ],
      "execution_count": null,
      "outputs": [
        {
          "output_type": "execute_result",
          "data": {
            "text/plain": [
              "(1309, 15)"
            ]
          },
          "metadata": {
            "tags": []
          },
          "execution_count": 18
        }
      ]
    },
    {
      "cell_type": "code",
      "metadata": {
        "id": "6knOAD-sY-XI",
        "colab": {
          "base_uri": "https://localhost:8080/",
          "height": 71
        },
        "outputId": "192216d4-f9ab-4c40-c3c5-8b593741665d"
      },
      "source": [
        "n = data_raw.shape[0]\n",
        "p_hat = data_raw.survived.sum()/n\n",
        "#p에 대한 95%신뢰구간\n",
        "alpha - 0.05\n",
        "c_025 = stats.norm.ppf(1-alpha/2)\n",
        "err = c_025 * np.sqrt(p_hat*(1-p_hat)/n)\n",
        "Cl_95 = pd.Series([p_hat-err,p_hat+err])\n",
        "Cl_95.round(2)"
      ],
      "execution_count": null,
      "outputs": [
        {
          "output_type": "execute_result",
          "data": {
            "text/plain": [
              "0    0.36\n",
              "1    0.41\n",
              "dtype: float64"
            ]
          },
          "metadata": {
            "tags": []
          },
          "execution_count": 21
        }
      ]
    },
    {
      "cell_type": "code",
      "metadata": {
        "id": "YCjM8-uBZXtk",
        "colab": {
          "base_uri": "https://localhost:8080/",
          "height": 35
        },
        "outputId": "15c98680-9848-4422-fc0e-15d4d4a40b4c"
      },
      "source": [
        "err"
      ],
      "execution_count": null,
      "outputs": [
        {
          "output_type": "execute_result",
          "data": {
            "text/plain": [
              "0.026320727211628304"
            ]
          },
          "metadata": {
            "tags": []
          },
          "execution_count": 22
        }
      ]
    },
    {
      "cell_type": "code",
      "metadata": {
        "id": "5s9vf75zZe2z"
      },
      "source": [
        "import pandas as pd\n",
        "import numpy as np\n",
        "from scipy import stats\n",
        "from statsmodels.stats import proportion as prop"
      ],
      "execution_count": null,
      "outputs": []
    },
    {
      "cell_type": "code",
      "metadata": {
        "id": "VI_YeQO9ktq1",
        "colab": {
          "base_uri": "https://localhost:8080/",
          "height": 204
        },
        "outputId": "e748f358-bae8-4f72-c433-3d4a8b5f1c60"
      },
      "source": [
        "data_file = \"https://vincentarelbundock.github.io/Rdatasets/csv/datasets/chickwts.csv\"\n",
        "chickwts = pd.read_csv(data_file)\n",
        "\n",
        "chickwts.head()"
      ],
      "execution_count": null,
      "outputs": [
        {
          "output_type": "execute_result",
          "data": {
            "text/html": [
              "<div>\n",
              "<style scoped>\n",
              "    .dataframe tbody tr th:only-of-type {\n",
              "        vertical-align: middle;\n",
              "    }\n",
              "\n",
              "    .dataframe tbody tr th {\n",
              "        vertical-align: top;\n",
              "    }\n",
              "\n",
              "    .dataframe thead th {\n",
              "        text-align: right;\n",
              "    }\n",
              "</style>\n",
              "<table border=\"1\" class=\"dataframe\">\n",
              "  <thead>\n",
              "    <tr style=\"text-align: right;\">\n",
              "      <th></th>\n",
              "      <th>Unnamed: 0</th>\n",
              "      <th>weight</th>\n",
              "      <th>feed</th>\n",
              "    </tr>\n",
              "  </thead>\n",
              "  <tbody>\n",
              "    <tr>\n",
              "      <th>0</th>\n",
              "      <td>1</td>\n",
              "      <td>179</td>\n",
              "      <td>horsebean</td>\n",
              "    </tr>\n",
              "    <tr>\n",
              "      <th>1</th>\n",
              "      <td>2</td>\n",
              "      <td>160</td>\n",
              "      <td>horsebean</td>\n",
              "    </tr>\n",
              "    <tr>\n",
              "      <th>2</th>\n",
              "      <td>3</td>\n",
              "      <td>136</td>\n",
              "      <td>horsebean</td>\n",
              "    </tr>\n",
              "    <tr>\n",
              "      <th>3</th>\n",
              "      <td>4</td>\n",
              "      <td>227</td>\n",
              "      <td>horsebean</td>\n",
              "    </tr>\n",
              "    <tr>\n",
              "      <th>4</th>\n",
              "      <td>5</td>\n",
              "      <td>217</td>\n",
              "      <td>horsebean</td>\n",
              "    </tr>\n",
              "  </tbody>\n",
              "</table>\n",
              "</div>"
            ],
            "text/plain": [
              "   Unnamed: 0  weight       feed\n",
              "0           1     179  horsebean\n",
              "1           2     160  horsebean\n",
              "2           3     136  horsebean\n",
              "3           4     227  horsebean\n",
              "4           5     217  horsebean"
            ]
          },
          "metadata": {
            "tags": []
          },
          "execution_count": 27
        }
      ]
    },
    {
      "cell_type": "code",
      "metadata": {
        "id": "-HH3vBM2k6g_"
      },
      "source": [
        "#단일 모집단에 대한 가설 검정\n",
        "data_x = chickwts.loc[chickwts.feed=='linseed'].weight32"
      ],
      "execution_count": null,
      "outputs": []
    },
    {
      "cell_type": "markdown",
      "metadata": {
        "id": "KZjPZ80RlikJ"
      },
      "source": [
        "> H0 : u = 261\n",
        "\n",
        "> H1 : u != 261"
      ]
    },
    {
      "cell_type": "code",
      "metadata": {
        "id": "nehIGqVplWHG"
      },
      "source": [
        "def ztest_1samp(x, mu, sigma):\n",
        "  #영가설하세엇의 검정통계량\n",
        "  t_0 = (x.mean()-mu) / sigma *np.sqrt(x.size)\n",
        "  #p-value\n",
        "  p_single = stats.norm.cdf(t_0)\n",
        "  p_double = p_single *2\n",
        "  return (t_0, p_double)"
      ],
      "execution_count": null,
      "outputs": []
    },
    {
      "cell_type": "code",
      "metadata": {
        "id": "AFBOoInnmCJR",
        "colab": {
          "base_uri": "https://localhost:8080/",
          "height": 35
        },
        "outputId": "4c413463-ef3f-4aa3-b170-022da79415a1"
      },
      "source": [
        "ztest_1samp(data_x,261,70) #데이터,평균,분산을 알고있는경우 표준편차를 넣음"
      ],
      "execution_count": null,
      "outputs": [
        {
          "output_type": "execute_result",
          "data": {
            "text/plain": [
              "(-2.0908327605652874, 0.03654305827103069)"
            ]
          },
          "metadata": {
            "tags": []
          },
          "execution_count": 29
        }
      ]
    },
    {
      "cell_type": "markdown",
      "metadata": {
        "id": "WSSTAUlNmlk_"
      },
      "source": [
        "> 검정결과 : 유의수준 0.05하에서 P-value가 유의수준보다 작으므로 영가설을 기각한다. \n",
        "대립가설을 채택하고 linseed 먹이를 먹은 닭 무게의 평균은 261보다 작다고 할 수 있다."
      ]
    },
    {
      "cell_type": "code",
      "metadata": {
        "id": "GwmH1cD3nLkD",
        "colab": {
          "base_uri": "https://localhost:8080/",
          "height": 35
        },
        "outputId": "60d420ab-41de-4538-d5e7-292a27dca0b7"
      },
      "source": [
        "stats.ttest_1samp(data_x, 261)"
      ],
      "execution_count": null,
      "outputs": [
        {
          "output_type": "execute_result",
          "data": {
            "text/plain": [
              "Ttest_1sampResult(statistic=-2.801882579740707, pvalue=0.01721669550496016)"
            ]
          },
          "metadata": {
            "tags": []
          },
          "execution_count": 31
        }
      ]
    }
  ]
}