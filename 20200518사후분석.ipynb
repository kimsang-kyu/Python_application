{
  "nbformat": 4,
  "nbformat_minor": 0,
  "metadata": {
    "colab": {
      "name": "20200518사후분석.ipynb",
      "provenance": [],
      "authorship_tag": "ABX9TyN4y3txMU8xeLa9I5yJ5fTN",
      "include_colab_link": true
    },
    "kernelspec": {
      "name": "python3",
      "display_name": "Python 3"
    }
  },
  "cells": [
    {
      "cell_type": "markdown",
      "metadata": {
        "id": "view-in-github",
        "colab_type": "text"
      },
      "source": [
        "<a href=\"https://colab.research.google.com/github/kimsang-kyu/Python_application/blob/main/20200518%EC%82%AC%ED%9B%84%EB%B6%84%EC%84%9D.ipynb\" target=\"_parent\"><img src=\"https://colab.research.google.com/assets/colab-badge.svg\" alt=\"Open In Colab\"/></a>"
      ]
    },
    {
      "cell_type": "markdown",
      "metadata": {
        "id": "q3Atb45BT9yL"
      },
      "source": [
        "실험계획법\n",
        " \n",
        " > 실험계획법은 실험을 통해 자료를 얻는 방법을 통정하는 것\n",
        "\n",
        "> 실험 : 같은 조건의 개체들에게 분석목적에 맞는 처리르 가하는 과정\n",
        "\n",
        "> \n",
        " "
      ]
    },
    {
      "cell_type": "code",
      "metadata": {
        "id": "v7kNuQI1S6GK"
      },
      "source": [
        "#기본검정\n",
        "# 독립성, 정규성, 등분산성\n",
        "# 정규성을 만족하는 경우 사용(만족하지 않을 경우 kruskal-walls 검정을 한다)"
      ],
      "execution_count": null,
      "outputs": []
    },
    {
      "cell_type": "markdown",
      "metadata": {
        "id": "TC2VQhexYH4e"
      },
      "source": [
        "H0 : mu1 = mu2 = ... =mu n\n",
        "\n",
        "H1 : H0가 사실이 아님4\n",
        "\n",
        "영가설이 기각되면 다중비교를 통해 각 집단가의 처리효과를 볼 수 있음 "
      ]
    },
    {
      "cell_type": "code",
      "metadata": {
        "id": "tn8Z8P9VYFun"
      },
      "source": [
        "#library\n",
        "import pandas as pd"
      ],
      "execution_count": null,
      "outputs": []
    },
    {
      "cell_type": "code",
      "metadata": {
        "id": "KrrEpSr9ZuFy"
      },
      "source": [
        "#자료 입력\n",
        "weight = [65,81,73,79,87,69,72,75,69,79,81,83,90,67,62,59,78,76,83,89,80,94,88]\n",
        "group = ['A','A','A','A','A','A','B','B','B','B','B','B','B','C','C','C','C','C','C','D','D','D','D']\n",
        "df = pd.DataFrame({\"weight\": weight,'group': group})"
      ],
      "execution_count": null,
      "outputs": []
    },
    {
      "cell_type": "code",
      "metadata": {
        "id": "vzCOy7asafn1",
        "colab": {
          "base_uri": "https://localhost:8080/",
          "height": 204
        },
        "outputId": "17f8f875-6dc8-4610-dd08-98b8db383b9c"
      },
      "source": [
        "df.head()"
      ],
      "execution_count": null,
      "outputs": [
        {
          "output_type": "execute_result",
          "data": {
            "text/html": [
              "<div>\n",
              "<style scoped>\n",
              "    .dataframe tbody tr th:only-of-type {\n",
              "        vertical-align: middle;\n",
              "    }\n",
              "\n",
              "    .dataframe tbody tr th {\n",
              "        vertical-align: top;\n",
              "    }\n",
              "\n",
              "    .dataframe thead th {\n",
              "        text-align: right;\n",
              "    }\n",
              "</style>\n",
              "<table border=\"1\" class=\"dataframe\">\n",
              "  <thead>\n",
              "    <tr style=\"text-align: right;\">\n",
              "      <th></th>\n",
              "      <th>weight</th>\n",
              "      <th>group</th>\n",
              "    </tr>\n",
              "  </thead>\n",
              "  <tbody>\n",
              "    <tr>\n",
              "      <th>0</th>\n",
              "      <td>65</td>\n",
              "      <td>A</td>\n",
              "    </tr>\n",
              "    <tr>\n",
              "      <th>1</th>\n",
              "      <td>81</td>\n",
              "      <td>A</td>\n",
              "    </tr>\n",
              "    <tr>\n",
              "      <th>2</th>\n",
              "      <td>73</td>\n",
              "      <td>A</td>\n",
              "    </tr>\n",
              "    <tr>\n",
              "      <th>3</th>\n",
              "      <td>79</td>\n",
              "      <td>A</td>\n",
              "    </tr>\n",
              "    <tr>\n",
              "      <th>4</th>\n",
              "      <td>87</td>\n",
              "      <td>A</td>\n",
              "    </tr>\n",
              "  </tbody>\n",
              "</table>\n",
              "</div>"
            ],
            "text/plain": [
              "   weight group\n",
              "0      65     A\n",
              "1      81     A\n",
              "2      73     A\n",
              "3      79     A\n",
              "4      87     A"
            ]
          },
          "metadata": {
            "tags": []
          },
          "execution_count": 7
        }
      ]
    },
    {
      "cell_type": "code",
      "metadata": {
        "id": "w1rPS0GjbqLU",
        "colab": {
          "base_uri": "https://localhost:8080/",
          "height": 35
        },
        "outputId": "edf75c2a-ae91-44f0-a608-bc46c9b67a6b"
      },
      "source": [
        "!pip install easygui"
      ],
      "execution_count": null,
      "outputs": [
        {
          "output_type": "stream",
          "text": [
            "Requirement already satisfied: easygui in /usr/local/lib/python3.6/dist-packages (0.98.1)\n"
          ],
          "name": "stdout"
        }
      ]
    },
    {
      "cell_type": "code",
      "metadata": {
        "id": "Xc03ZetqcEIm"
      },
      "source": [
        "import easygui\n",
        "df = pd.read_csv(easygui.fileopenbox())"
      ],
      "execution_count": null,
      "outputs": []
    },
    {
      "cell_type": "code",
      "metadata": {
        "id": "6yYKPtnwcebv",
        "colab": {
          "base_uri": "https://localhost:8080/",
          "height": 297
        },
        "outputId": "03b952b4-d3a7-4d06-dc21-59d1455b72e8"
      },
      "source": [
        "df.describe()"
      ],
      "execution_count": null,
      "outputs": [
        {
          "output_type": "execute_result",
          "data": {
            "text/html": [
              "<div>\n",
              "<style scoped>\n",
              "    .dataframe tbody tr th:only-of-type {\n",
              "        vertical-align: middle;\n",
              "    }\n",
              "\n",
              "    .dataframe tbody tr th {\n",
              "        vertical-align: top;\n",
              "    }\n",
              "\n",
              "    .dataframe thead th {\n",
              "        text-align: right;\n",
              "    }\n",
              "</style>\n",
              "<table border=\"1\" class=\"dataframe\">\n",
              "  <thead>\n",
              "    <tr style=\"text-align: right;\">\n",
              "      <th></th>\n",
              "      <th>weight</th>\n",
              "    </tr>\n",
              "  </thead>\n",
              "  <tbody>\n",
              "    <tr>\n",
              "      <th>count</th>\n",
              "      <td>23.000000</td>\n",
              "    </tr>\n",
              "    <tr>\n",
              "      <th>mean</th>\n",
              "      <td>77.347826</td>\n",
              "    </tr>\n",
              "    <tr>\n",
              "      <th>std</th>\n",
              "      <td>9.315718</td>\n",
              "    </tr>\n",
              "    <tr>\n",
              "      <th>min</th>\n",
              "      <td>59.000000</td>\n",
              "    </tr>\n",
              "    <tr>\n",
              "      <th>25%</th>\n",
              "      <td>70.500000</td>\n",
              "    </tr>\n",
              "    <tr>\n",
              "      <th>50%</th>\n",
              "      <td>79.000000</td>\n",
              "    </tr>\n",
              "    <tr>\n",
              "      <th>75%</th>\n",
              "      <td>83.000000</td>\n",
              "    </tr>\n",
              "    <tr>\n",
              "      <th>max</th>\n",
              "      <td>94.000000</td>\n",
              "    </tr>\n",
              "  </tbody>\n",
              "</table>\n",
              "</div>"
            ],
            "text/plain": [
              "          weight\n",
              "count  23.000000\n",
              "mean   77.347826\n",
              "std     9.315718\n",
              "min    59.000000\n",
              "25%    70.500000\n",
              "50%    79.000000\n",
              "75%    83.000000\n",
              "max    94.000000"
            ]
          },
          "metadata": {
            "tags": []
          },
          "execution_count": 15
        }
      ]
    },
    {
      "cell_type": "code",
      "metadata": {
        "id": "M9TWViPfcq9Q",
        "colab": {
          "base_uri": "https://localhost:8080/",
          "height": 319
        },
        "outputId": "1a3fb2f0-55f0-4a3c-8817-11441b638959"
      },
      "source": [
        "# 그룹별 상자그림 - 연속형에서 제일 편함\n",
        "df.boxplot(column='weight',by= 'group',grid = False)"
      ],
      "execution_count": null,
      "outputs": [
        {
          "output_type": "execute_result",
          "data": {
            "text/plain": [
              "<matplotlib.axes._subplots.AxesSubplot at 0x7f734f69b208>"
            ]
          },
          "metadata": {
            "tags": []
          },
          "execution_count": 23
        },
        {
          "output_type": "display_data",
          "data": {
            "image/png": "[encoded data removed]",
            "text/plain": [
              "<Figure size 432x288 with 1 Axes>"
            ]
          },
          "metadata": {
            "tags": [],
            "needs_background": "light"
          }
        }
      ]
    },
    {
      "cell_type": "code",
      "metadata": {
        "id": "mw9CpShadOOj",
        "colab": {
          "base_uri": "https://localhost:8080/",
          "height": 125
        },
        "outputId": "8506e358-e15e-4973-d373-bd833b2d1419"
      },
      "source": [
        "#그룹별ㅇ 평균\n",
        "df.groupby(['group'])['weight'].mean()"
      ],
      "execution_count": null,
      "outputs": [
        {
          "output_type": "execute_result",
          "data": {
            "text/plain": [
              "group\n",
              "A    75.666667\n",
              "B    78.428571\n",
              "C    70.833333\n",
              "D    87.750000\n",
              "Name: weight, dtype: float64"
            ]
          },
          "metadata": {
            "tags": []
          },
          "execution_count": 19
        }
      ]
    },
    {
      "cell_type": "code",
      "metadata": {
        "id": "vyf8cuhmdXBf"
      },
      "source": [
        "from statsmodels.formula.api import ols\n",
        "from statsmodels.stats import anova as aov"
      ],
      "execution_count": null,
      "outputs": []
    },
    {
      "cell_type": "code",
      "metadata": {
        "id": "bBywD0xmdlVG",
        "colab": {
          "base_uri": "https://localhost:8080/",
          "height": 111
        },
        "outputId": "632fca3d-8e11-4de9-91d1-b1d9860ed9ac"
      },
      "source": [
        "#### 일원배치 분산분석\n",
        "fit = ols('weight~ group', data = df).fit()\n",
        "###분산분석표\n",
        "aov.anova_lm(fit)"
      ],
      "execution_count": null,
      "outputs": [
        {
          "output_type": "execute_result",
          "data": {
            "text/html": [
              "<div>\n",
              "<style scoped>\n",
              "    .dataframe tbody tr th:only-of-type {\n",
              "        vertical-align: middle;\n",
              "    }\n",
              "\n",
              "    .dataframe tbody tr th {\n",
              "        vertical-align: top;\n",
              "    }\n",
              "\n",
              "    .dataframe thead th {\n",
              "        text-align: right;\n",
              "    }\n",
              "</style>\n",
              "<table border=\"1\" class=\"dataframe\">\n",
              "  <thead>\n",
              "    <tr style=\"text-align: right;\">\n",
              "      <th></th>\n",
              "      <th>df</th>\n",
              "      <th>sum_sq</th>\n",
              "      <th>mean_sq</th>\n",
              "      <th>F</th>\n",
              "      <th>PR(&gt;F)</th>\n",
              "    </tr>\n",
              "  </thead>\n",
              "  <tbody>\n",
              "    <tr>\n",
              "      <th>group</th>\n",
              "      <td>3.0</td>\n",
              "      <td>712.586439</td>\n",
              "      <td>237.528813</td>\n",
              "      <td>3.771461</td>\n",
              "      <td>0.028041</td>\n",
              "    </tr>\n",
              "    <tr>\n",
              "      <th>Residual</th>\n",
              "      <td>19.0</td>\n",
              "      <td>1196.630952</td>\n",
              "      <td>62.980576</td>\n",
              "      <td>NaN</td>\n",
              "      <td>NaN</td>\n",
              "    </tr>\n",
              "  </tbody>\n",
              "</table>\n",
              "</div>"
            ],
            "text/plain": [
              "            df       sum_sq     mean_sq         F    PR(>F)\n",
              "group      3.0   712.586439  237.528813  3.771461  0.028041\n",
              "Residual  19.0  1196.630952   62.980576       NaN       NaN"
            ]
          },
          "metadata": {
            "tags": []
          },
          "execution_count": 24
        }
      ]
    },
    {
      "cell_type": "markdown",
      "metadata": {
        "id": "-8GiWmX-jMME"
      },
      "source": [
        "#사후 분석\n",
        " 분산분석의 결과 영가설을 기각하는 경우 어느 집단간의 차이에서 기인하는지 검토"
      ]
    },
    {
      "cell_type": "code",
      "metadata": {
        "id": "Nisw0sh_enMb"
      },
      "source": [
        "###library\n",
        "from statsmodels.stats import multicomp as mc"
      ],
      "execution_count": null,
      "outputs": []
    },
    {
      "cell_type": "code",
      "metadata": {
        "id": "RWN2oUWvja_-",
        "colab": {
          "base_uri": "https://localhost:8080/",
          "height": 215
        },
        "outputId": "fb432d19-46bd-41a6-ad7f-df457b037695"
      },
      "source": [
        "#Tukey HSD\n",
        "posthoc = mc.pairwise_tukeyhsd(df['weight'], df['group'], alpha = 0.05)\n",
        "print(posthoc)"
      ],
      "execution_count": null,
      "outputs": [
        {
          "output_type": "stream",
          "text": [
            " Multiple Comparison of Means - Tukey HSD, FWER=0.05 \n",
            "=====================================================\n",
            "group1 group2 meandiff p-adj   lower    upper  reject\n",
            "-----------------------------------------------------\n",
            "     A      B   2.7619    0.9   -9.654 15.1778  False\n",
            "     A      C  -4.8333 0.7014 -17.7179  8.0513  False\n",
            "     A      D  12.0833   0.12  -2.3221 26.4887  False\n",
            "     B      C  -7.5952 0.3414 -20.0111  4.8207  False\n",
            "     B      D   9.3214  0.272  -4.6663 23.3092  False\n",
            "     C      D  16.9167  0.018   2.5113 31.3221   True\n",
            "-----------------------------------------------------\n"
          ],
          "name": "stdout"
        }
      ]
    },
    {
      "cell_type": "code",
      "metadata": {
        "id": "iJbmkL0ekj49",
        "colab": {
          "base_uri": "https://localhost:8080/",
          "height": 390
        },
        "outputId": "dedb10e2-3aca-41c8-9cba-a46e27028465"
      },
      "source": [
        "fig = posthoc.plot_simultaneous()"
      ],
      "execution_count": null,
      "outputs": [
        {
          "output_type": "display_data",
          "data": {
            "image/png": "[encoded data removed]",
            "text/plain": [
              "<Figure size 720x432 with 1 Axes>"
            ]
          },
          "metadata": {
            "tags": [],
            "needs_background": "light"
          }
        }
      ]
    },
    {
      "cell_type": "code",
      "metadata": {
        "id": "8U8Ji7nglmOC"
      },
      "source": [
        "data_file ='https://vincentarelbundock.github.io/Rdatasets/csv/datasets/chickwts.csv'\n",
        "chickwts = pd.read_csv(data_file)\n",
        "chickwts = chickwts.drop(chickwts.columns[0], axis =1)"
      ],
      "execution_count": null,
      "outputs": []
    },
    {
      "cell_type": "code",
      "metadata": {
        "id": "wmdrwi78oyFf",
        "colab": {
          "base_uri": "https://localhost:8080/",
          "height": 161
        },
        "outputId": "0c6e18ef-1b86-4b7a-ed87-ea170d13d4af"
      },
      "source": [
        "chickwts.groupby(['feed'])['weight'].mean()"
      ],
      "execution_count": null,
      "outputs": [
        {
          "output_type": "execute_result",
          "data": {
            "text/plain": [
              "feed\n",
              "casein       323.583333\n",
              "horsebean    160.200000\n",
              "linseed      218.750000\n",
              "meatmeal     276.909091\n",
              "soybean      246.428571\n",
              "sunflower    328.916667\n",
              "Name: weight, dtype: float64"
            ]
          },
          "metadata": {
            "tags": []
          },
          "execution_count": 36
        }
      ]
    },
    {
      "cell_type": "code",
      "metadata": {
        "id": "kcGXXOgup5BJ",
        "colab": {
          "base_uri": "https://localhost:8080/",
          "height": 319
        },
        "outputId": "76d13db7-f6be-4fbc-eb96-e29a8ff54193"
      },
      "source": [
        "# 그룹별 상자그림 - 연속형에서 제일 편함\n",
        "chickwts.boxplot(column='weight',by= 'feed',grid = False)"
      ],
      "execution_count": null,
      "outputs": [
        {
          "output_type": "execute_result",
          "data": {
            "text/plain": [
              "<matplotlib.axes._subplots.AxesSubplot at 0x7f734dbd04e0>"
            ]
          },
          "metadata": {
            "tags": []
          },
          "execution_count": 38
        },
        {
          "output_type": "display_data",
          "data": {
            "image/png": "[encoded data removed]",
            "text/plain": [
              "<Figure size 432x288 with 1 Axes>"
            ]
          },
          "metadata": {
            "tags": [],
            "needs_background": "light"
          }
        }
      ]
    },
    {
      "cell_type": "markdown",
      "metadata": {
        "id": "8He0JRZHmIk_"
      },
      "source": [
        "H0 : mu1 = mu2 = mu3 = mu4 = mu5 = mu6\n",
        "H1 : Not H0! (적어도 하나는 다르다)"
      ]
    },
    {
      "cell_type": "code",
      "metadata": {
        "id": "1PpYbvG0l024",
        "colab": {
          "base_uri": "https://localhost:8080/",
          "height": 111
        },
        "outputId": "278c7ee3-5b88-4244-d9e9-820b663265f3"
      },
      "source": [
        "fit = ols('weight~ feed', data = chickwts).fit()\n",
        "###분산분석표\n",
        "aov.anova_lm(fit)\n",
        "#0.00000000005 굉장히 작음\n",
        "#영가설 기각, 대립가설 채택"
      ],
      "execution_count": null,
      "outputs": [
        {
          "output_type": "execute_result",
          "data": {
            "text/html": [
              "<div>\n",
              "<style scoped>\n",
              "    .dataframe tbody tr th:only-of-type {\n",
              "        vertical-align: middle;\n",
              "    }\n",
              "\n",
              "    .dataframe tbody tr th {\n",
              "        vertical-align: top;\n",
              "    }\n",
              "\n",
              "    .dataframe thead th {\n",
              "        text-align: right;\n",
              "    }\n",
              "</style>\n",
              "<table border=\"1\" class=\"dataframe\">\n",
              "  <thead>\n",
              "    <tr style=\"text-align: right;\">\n",
              "      <th></th>\n",
              "      <th>df</th>\n",
              "      <th>sum_sq</th>\n",
              "      <th>mean_sq</th>\n",
              "      <th>F</th>\n",
              "      <th>PR(&gt;F)</th>\n",
              "    </tr>\n",
              "  </thead>\n",
              "  <tbody>\n",
              "    <tr>\n",
              "      <th>feed</th>\n",
              "      <td>5.0</td>\n",
              "      <td>231129.162103</td>\n",
              "      <td>46225.832421</td>\n",
              "      <td>15.3648</td>\n",
              "      <td>5.936420e-10</td>\n",
              "    </tr>\n",
              "    <tr>\n",
              "      <th>Residual</th>\n",
              "      <td>65.0</td>\n",
              "      <td>195556.020996</td>\n",
              "      <td>3008.554169</td>\n",
              "      <td>NaN</td>\n",
              "      <td>NaN</td>\n",
              "    </tr>\n",
              "  </tbody>\n",
              "</table>\n",
              "</div>"
            ],
            "text/plain": [
              "            df         sum_sq       mean_sq        F        PR(>F)\n",
              "feed       5.0  231129.162103  46225.832421  15.3648  5.936420e-10\n",
              "Residual  65.0  195556.020996   3008.554169      NaN           NaN"
            ]
          },
          "metadata": {
            "tags": []
          },
          "execution_count": 32
        }
      ]
    },
    {
      "cell_type": "code",
      "metadata": {
        "id": "gnK7bKNPl85O",
        "colab": {
          "base_uri": "https://localhost:8080/",
          "height": 377
        },
        "outputId": "0e07e46b-9d91-4670-d139-257c224b7064"
      },
      "source": [
        "#Tukey HSD\n",
        "posthoc = mc.pairwise_tukeyhsd(chickwts['weight'], chickwts['feed'], alpha = 0.05)\n",
        "print(posthoc)"
      ],
      "execution_count": null,
      "outputs": [
        {
          "output_type": "stream",
          "text": [
            "     Multiple Comparison of Means - Tukey HSD, FWER=0.05      \n",
            "==============================================================\n",
            "  group1    group2   meandiff p-adj    lower    upper   reject\n",
            "--------------------------------------------------------------\n",
            "   casein horsebean -163.3833  0.001 -232.3445 -94.4222   True\n",
            "   casein   linseed -104.8333  0.001 -170.5852 -39.0814   True\n",
            "   casein  meatmeal  -46.6742 0.3324 -113.9039  20.5554  False\n",
            "   casein   soybean  -77.1548 0.0084 -140.5149 -13.7947   True\n",
            "   casein sunflower    5.3333    0.9  -60.4186  71.0852  False\n",
            "horsebean   linseed     58.55 0.1412  -10.4112 127.5112  False\n",
            "horsebean  meatmeal  116.7091  0.001   46.3375 187.0806   True\n",
            "horsebean   soybean   86.2286 0.0042    19.544 152.9132   True\n",
            "horsebean sunflower  168.7167  0.001   99.7555 237.6778   True\n",
            "  linseed  meatmeal   58.1591 0.1274   -9.0705 125.3887  False\n",
            "  linseed   soybean   27.6786 0.7679  -35.6815  91.0387  False\n",
            "  linseed sunflower  110.1667  0.001   44.4148 175.9186   True\n",
            " meatmeal   soybean  -30.4805 0.7133  -95.3729  34.4118  False\n",
            " meatmeal sunflower   52.0076 0.2207  -15.2221 119.2372  False\n",
            "  soybean sunflower   82.4881 0.0039    19.128 145.8482   True\n",
            "--------------------------------------------------------------\n"
          ],
          "name": "stdout"
        }
      ]
    },
    {
      "cell_type": "code",
      "metadata": {
        "id": "gDizeKAnmTIt",
        "colab": {
          "base_uri": "https://localhost:8080/",
          "height": 390
        },
        "outputId": "bc6f156d-d108-4597-9b08-b74f8e43ea43"
      },
      "source": [
        "fig = posthoc.plot_simultaneous()"
      ],
      "execution_count": null,
      "outputs": [
        {
          "output_type": "display_data",
          "data": {
            "image/png": "[encoded data removed]",
            "text/plain": [
              "<Figure size 720x432 with 1 Axes>"
            ]
          },
          "metadata": {
            "tags": [],
            "needs_background": "light"
          }
        }
      ]
    },
    {
      "cell_type": "markdown",
      "metadata": {
        "id": "3eOzqxYKmVp5"
      },
      "source": [
        "> 결론 : 대립가설 채택, 적어도 한개는 다르다."
      ]
    }
  ]
}