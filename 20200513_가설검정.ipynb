{
  "nbformat": 4,
  "nbformat_minor": 0,
  "metadata": {
    "colab": {
      "name": "20200513_가설검정.ipynb",
      "provenance": [],
      "collapsed_sections": [],
      "authorship_tag": "ABX9TyPgxEMAcNtf/HDUAQHwmYkh",
      "include_colab_link": true
    },
    "kernelspec": {
      "name": "python3",
      "display_name": "Python 3"
    }
  },
  "cells": [
    {
      "cell_type": "markdown",
      "metadata": {
        "id": "view-in-github",
        "colab_type": "text"
      },
      "source": [
        "<a href=\"https://colab.research.google.com/github/kimsang-kyu/Python_application/blob/main/20200513_%EA%B0%80%EC%84%A4%EA%B2%80%EC%A0%95.ipynb\" target=\"_parent\"><img src=\"https://colab.research.google.com/assets/colab-badge.svg\" alt=\"Open In Colab\"/></a>"
      ]
    },
    {
      "cell_type": "markdown",
      "metadata": {
        "id": "Phrt8aJzyYX-"
      },
      "source": [
        "###두 모집단의 가설검정"
      ]
    },
    {
      "cell_type": "code",
      "metadata": {
        "id": "2TeVMZQDzGhC",
        "colab": {
          "base_uri": "https://localhost:8080/",
          "height": 73
        },
        "outputId": "c160bf2a-ab8e-42a1-fb46-22cf13d27710"
      },
      "source": [
        "import pandas as pd\n",
        "import numpy as np\n",
        "from scipy import stats\n",
        "from statsmodels.stats import proportion as prop"
      ],
      "execution_count": null,
      "outputs": [
        {
          "output_type": "stream",
          "text": [
            "/usr/local/lib/python3.6/dist-packages/statsmodels/tools/_testing.py:19: FutureWarning: pandas.util.testing is deprecated. Use the functions in the public API at pandas.testing instead.\n",
            "  import pandas.util.testing as tm\n"
          ],
          "name": "stderr"
        }
      ]
    },
    {
      "cell_type": "code",
      "metadata": {
        "id": "BHDmGm-GzFnk"
      },
      "source": [
        "data_file = \"https://vincentarelbundock.github.io/Rdatasets/csv/datasets/chickwts.csv\"\n",
        "chickwts = pd.read_csv(data_file)"
      ],
      "execution_count": null,
      "outputs": []
    },
    {
      "cell_type": "code",
      "metadata": {
        "id": "eokPXjNWzpKE",
        "colab": {
          "base_uri": "https://localhost:8080/",
          "height": 35
        },
        "outputId": "b9a702b7-0fbf-471f-ebb6-35ef2817d00f"
      },
      "source": [
        "chickwts.shape"
      ],
      "execution_count": null,
      "outputs": [
        {
          "output_type": "execute_result",
          "data": {
            "text/plain": [
              "(71, 3)"
            ]
          },
          "metadata": {
            "tags": []
          },
          "execution_count": 8
        }
      ]
    },
    {
      "cell_type": "code",
      "metadata": {
        "id": "vLYMc9tawhEL"
      },
      "source": [
        "### 두 모집단에 대한 가설 검정\n",
        "data_x = chickwts.loc[chickwts.feed ==\"linseed\"].weight\n",
        "data_y = chickwts.loc[chickwts.feed ==\"meatmeal\"].weight"
      ],
      "execution_count": null,
      "outputs": []
    },
    {
      "cell_type": "code",
      "metadata": {
        "id": "K-mGV7bczQq7",
        "colab": {
          "base_uri": "https://localhost:8080/",
          "height": 301
        },
        "outputId": "cc5aba72-847d-4a8c-81ba-c02cf250bc09"
      },
      "source": [
        "boxplot = chickwts.boxplot(column='weight',by = 'feed', grid=False)"
      ],
      "execution_count": null,
      "outputs": [
        {
          "output_type": "display_data",
          "data": {
            "image/png": "[encoded data removed]",
            "text/plain": [
              "<Figure size 432x288 with 1 Axes>"
            ]
          },
          "metadata": {
            "tags": [],
            "needs_background": "light"
          }
        }
      ]
    },
    {
      "cell_type": "markdown",
      "metadata": {
        "id": "tBmeGsFU1w-M"
      },
      "source": [
        "> chickwts 자료에서 linseed먹이를 먹은 닭 무게의 분산이 70^2이고 meatmeal먹이를 먹은 닭 무게의 분산이 75^2라고 알려진 경우 두집단의 모평균의 동일성 검정을 하여보자"
      ]
    },
    {
      "cell_type": "code",
      "metadata": {
        "id": "_E4CDT750kQe",
        "colab": {
          "base_uri": "https://localhost:8080/",
          "height": 35
        },
        "outputId": "0a06f14d-e3bd-4b24-f33f-2f78b108b201"
      },
      "source": [
        "### x와 y의 평균\n",
        "print(data_x.mean(),data_y.mean())"
      ],
      "execution_count": null,
      "outputs": [
        {
          "output_type": "stream",
          "text": [
            "218.75 276.90909090909093\n"
          ],
          "name": "stdout"
        }
      ]
    },
    {
      "cell_type": "code",
      "metadata": {
        "id": "2GtacuQM00HI"
      },
      "source": [
        "### 두 모집단의 분산이 알려진 경우\n",
        "# 함수 - 양측검정\n",
        "def ztest_2sanmp(x, y, sigma_x, sigma_y):\n",
        "  # 영가설하에서의 검정통계량\n",
        "  t_0 = (x.mean()-y.mean()) / np.sqrt(sigma_x**2/x.size+sigma_y**2/y.size)\n",
        "  #p-value\n",
        "  p_single = stats.norm.cdf(t_0)\n",
        "  p_double = p_single *2\n",
        "  return (t_0, p_double)"
      ],
      "execution_count": null,
      "outputs": []
    },
    {
      "cell_type": "code",
      "metadata": {
        "id": "MwTdzwQ71lDd",
        "colab": {
          "base_uri": "https://localhost:8080/",
          "height": 35
        },
        "outputId": "2e7cfe0d-c8ee-4581-ba01-6049fd262c2e"
      },
      "source": [
        "#검정결과 : (검정통계량, p-value)\n",
        "ztest_2sanmp(x=data_x, y=data_y, sigma_x = 70, sigma_y = 75)"
      ],
      "execution_count": null,
      "outputs": [
        {
          "output_type": "execute_result",
          "data": {
            "text/plain": [
              "(-1.9177643081438704, 0.05514090335898941)"
            ]
          },
          "metadata": {
            "tags": []
          },
          "execution_count": 13
        }
      ]
    },
    {
      "cell_type": "code",
      "metadata": {
        "id": "P2bS2YJI4Bot",
        "colab": {
          "base_uri": "https://localhost:8080/",
          "height": 35
        },
        "outputId": "6e9e4e6f-eb97-4109-91de-2781c7465257"
      },
      "source": [
        "### 두 모집단의 분산이 알려지지 않은 겨우\n",
        "### 두 분산이 같은 경우\n",
        "stats.ttest_ind(data_x, data_y)"
      ],
      "execution_count": null,
      "outputs": [
        {
          "output_type": "execute_result",
          "data": {
            "text/plain": [
              "Ttest_indResult(statistic=-2.377260681187378, pvalue=0.02702312877489196)"
            ]
          },
          "metadata": {
            "tags": []
          },
          "execution_count": 15
        }
      ]
    },
    {
      "cell_type": "code",
      "metadata": {
        "id": "oEP2Nc8H6Dwn",
        "colab": {
          "base_uri": "https://localhost:8080/",
          "height": 35
        },
        "outputId": "a49912af-c605-420b-e0c7-7184f79a6078"
      },
      "source": [
        "###두 분산이 같지 않은 경우\n",
        "stats.ttest_ind(data_x,data_y,equal_var=False)"
      ],
      "execution_count": null,
      "outputs": [
        {
          "output_type": "execute_result",
          "data": {
            "text/plain": [
              "Ttest_indResult(statistic=-2.3542177119900995, pvalue=0.029331439600825963)"
            ]
          },
          "metadata": {
            "tags": []
          },
          "execution_count": 16
        }
      ]
    },
    {
      "cell_type": "markdown",
      "metadata": {
        "id": "hpqlTZXF6Qqr"
      },
      "source": [
        "linceed와 meatmeal의 평균은 다르다."
      ]
    },
    {
      "cell_type": "code",
      "metadata": {
        "id": "dxr56TwR71Do"
      },
      "source": [
        "data_file = 'https://vincentarelbundock.github.io/Rdatasets/csv/datasets/sleep.csv'\n",
        "sleep = pd.read_csv(data_file)\n",
        "data_x = sleep.loc[sleep.group==1].extra\n",
        "data_y = sleep.loc[sleep.group==2].extra"
      ],
      "execution_count": null,
      "outputs": []
    },
    {
      "cell_type": "code",
      "metadata": {
        "id": "D7RKblK-8LWh",
        "colab": {
          "base_uri": "https://localhost:8080/",
          "height": 204
        },
        "outputId": "12017fcc-d430-418e-c02f-b5a4be6f68a0"
      },
      "source": [
        "sleep.head()"
      ],
      "execution_count": null,
      "outputs": [
        {
          "output_type": "execute_result",
          "data": {
            "text/html": [
              "<div>\n",
              "<style scoped>\n",
              "    .dataframe tbody tr th:only-of-type {\n",
              "        vertical-align: middle;\n",
              "    }\n",
              "\n",
              "    .dataframe tbody tr th {\n",
              "        vertical-align: top;\n",
              "    }\n",
              "\n",
              "    .dataframe thead th {\n",
              "        text-align: right;\n",
              "    }\n",
              "</style>\n",
              "<table border=\"1\" class=\"dataframe\">\n",
              "  <thead>\n",
              "    <tr style=\"text-align: right;\">\n",
              "      <th></th>\n",
              "      <th>Unnamed: 0</th>\n",
              "      <th>extra</th>\n",
              "      <th>group</th>\n",
              "      <th>ID</th>\n",
              "    </tr>\n",
              "  </thead>\n",
              "  <tbody>\n",
              "    <tr>\n",
              "      <th>0</th>\n",
              "      <td>1</td>\n",
              "      <td>0.7</td>\n",
              "      <td>1</td>\n",
              "      <td>1</td>\n",
              "    </tr>\n",
              "    <tr>\n",
              "      <th>1</th>\n",
              "      <td>2</td>\n",
              "      <td>-1.6</td>\n",
              "      <td>1</td>\n",
              "      <td>2</td>\n",
              "    </tr>\n",
              "    <tr>\n",
              "      <th>2</th>\n",
              "      <td>3</td>\n",
              "      <td>-0.2</td>\n",
              "      <td>1</td>\n",
              "      <td>3</td>\n",
              "    </tr>\n",
              "    <tr>\n",
              "      <th>3</th>\n",
              "      <td>4</td>\n",
              "      <td>-1.2</td>\n",
              "      <td>1</td>\n",
              "      <td>4</td>\n",
              "    </tr>\n",
              "    <tr>\n",
              "      <th>4</th>\n",
              "      <td>5</td>\n",
              "      <td>-0.1</td>\n",
              "      <td>1</td>\n",
              "      <td>5</td>\n",
              "    </tr>\n",
              "  </tbody>\n",
              "</table>\n",
              "</div>"
            ],
            "text/plain": [
              "   Unnamed: 0  extra  group  ID\n",
              "0           1    0.7      1   1\n",
              "1           2   -1.6      1   2\n",
              "2           3   -0.2      1   3\n",
              "3           4   -1.2      1   4\n",
              "4           5   -0.1      1   5"
            ]
          },
          "metadata": {
            "tags": []
          },
          "execution_count": 20
        }
      ]
    },
    {
      "cell_type": "code",
      "metadata": {
        "id": "-CuJ-x798OHV",
        "colab": {
          "base_uri": "https://localhost:8080/",
          "height": 301
        },
        "outputId": "3baa5e1e-ccd8-44df-80da-53766206bf63"
      },
      "source": [
        "###상자그림\n",
        "boxplot = sleep.boxplot(column='extra',by='group')"
      ],
      "execution_count": null,
      "outputs": [
        {
          "output_type": "display_data",
          "data": {
            "image/png": "[encoded data removed]",
            "text/plain": [
              "<Figure size 432x288 with 1 Axes>"
            ]
          },
          "metadata": {
            "tags": [],
            "needs_background": "light"
          }
        }
      ]
    },
    {
      "cell_type": "code",
      "metadata": {
        "id": "-4sRtGO48WGR",
        "colab": {
          "base_uri": "https://localhost:8080/",
          "height": 35
        },
        "outputId": "f2822621-ce9c-423f-8b33-df478578fda2"
      },
      "source": [
        "###x와 y의 평균\n",
        "print(data_x.mean(),data_y.mean())"
      ],
      "execution_count": null,
      "outputs": [
        {
          "output_type": "stream",
          "text": [
            "0.75 2.3299999999999996\n"
          ],
          "name": "stdout"
        }
      ]
    },
    {
      "cell_type": "code",
      "metadata": {
        "id": "Eo42VNQR8fFd",
        "colab": {
          "base_uri": "https://localhost:8080/",
          "height": 35
        },
        "outputId": "84405db5-0ba9-434c-f40d-3e743f6d4a74"
      },
      "source": [
        "### 대응표본의 오평균 검정\n",
        "stats.ttest_rel(data_x,data_y)"
      ],
      "execution_count": null,
      "outputs": [
        {
          "output_type": "execute_result",
          "data": {
            "text/plain": [
              "Ttest_relResult(statistic=-4.062127683382037, pvalue=0.00283289019738427)"
            ]
          },
          "metadata": {
            "tags": []
          },
          "execution_count": 23
        }
      ]
    }
  ]
}